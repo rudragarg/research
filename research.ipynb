{
 "cells": [
  {
   "cell_type": "markdown",
   "metadata": {},
   "source": [
    "## Attempts to Disproving the Efficient Market Hypothesis\n",
    "### Name: Rudraksh Garg"
   ]
  },
  {
   "cell_type": "markdown",
   "metadata": {},
   "source": [
    "## Introduction\n",
    "\n",
    "The stock market has been studied by many as people hope to find ways to make excess profits. People attempt to read company reports or mathematical equations or even view satellite images to evaluate and trade stocks. In this case we will be using machine learning to complete the same tasks.\n",
    "\n",
    "The basis of all of these prediction attempts comes from the idea of the Efficient Market Hypothesis (EMH). EMH states that a stock's price incorporates all of the information (historic, public, private) available in the market. There are 3 markets forms in EMH: weak-form, semi-strong form, and strong form. The weak form market explains that the market price of a stock incorporates only historical information. This means that investors are only able to obtain excessive gains if that have access to public and private information.\n",
    "\n",
    "In this project, we plan to disprove the weak-form efficient market as we want to use historical prices and technical analysis as inputs into a neural network in order to predict the perfect buy-in and sell-out times and get excessive gains than the standard buy-and-hold method. There are 3 approaches explained below: multi-class classification, binary classification, and regression."
   ]
  },
  {
   "cell_type": "markdown",
   "metadata": {},
   "source": [
    "## Importing Libraries"
   ]
  },
  {
   "cell_type": "markdown",
   "metadata": {},
   "source": [
    "### Import Data Analytics Libraries\n",
    "- **Pandas**: Used for data analysis and data preparation\n",
    "- **Numpy**: Arrays and other mathematical expressions \n",
    "- **Matplotlib**: Plotting data points\n",
    "- **Datetime**: Manipulate dates\n",
    "- **Scikit-learn (Sklearn)**: Machine learning library for Python\n",
    "    - *preprocessing.MinMaxScaler*: Used for normalizing data\n"
   ]
  },
  {
   "cell_type": "code",
   "execution_count": 1,
   "metadata": {},
   "outputs": [
    {
     "name": "stderr",
     "output_type": "stream",
     "text": [
      "\n",
      "Bad key text.latex.preview in file C:\\Users\\rudra\\anaconda3\\lib\\site-packages\\matplotlib\\mpl-data\\stylelib\\_classic_test.mplstyle, line 123 ('text.latex.preview : False')\n",
      "You probably need to get an updated matplotlibrc file from\n",
      "https://github.com/matplotlib/matplotlib/blob/v3.5.1/matplotlibrc.template\n",
      "or from the matplotlib source distribution\n",
      "\n",
      "Bad key mathtext.fallback_to_cm in file C:\\Users\\rudra\\anaconda3\\lib\\site-packages\\matplotlib\\mpl-data\\stylelib\\_classic_test.mplstyle, line 155 ('mathtext.fallback_to_cm : True  # When True, use symbols from the Computer Modern')\n",
      "You probably need to get an updated matplotlibrc file from\n",
      "https://github.com/matplotlib/matplotlib/blob/v3.5.1/matplotlibrc.template\n",
      "or from the matplotlib source distribution\n",
      "\n",
      "Bad key savefig.jpeg_quality in file C:\\Users\\rudra\\anaconda3\\lib\\site-packages\\matplotlib\\mpl-data\\stylelib\\_classic_test.mplstyle, line 418 ('savefig.jpeg_quality: 95       # when a jpeg is saved, the default quality parameter.')\n",
      "You probably need to get an updated matplotlibrc file from\n",
      "https://github.com/matplotlib/matplotlib/blob/v3.5.1/matplotlibrc.template\n",
      "or from the matplotlib source distribution\n",
      "\n",
      "Bad key keymap.all_axes in file C:\\Users\\rudra\\anaconda3\\lib\\site-packages\\matplotlib\\mpl-data\\stylelib\\_classic_test.mplstyle, line 466 ('keymap.all_axes : a                 # enable all axes')\n",
      "You probably need to get an updated matplotlibrc file from\n",
      "https://github.com/matplotlib/matplotlib/blob/v3.5.1/matplotlibrc.template\n",
      "or from the matplotlib source distribution\n",
      "\n",
      "Bad key animation.avconv_path in file C:\\Users\\rudra\\anaconda3\\lib\\site-packages\\matplotlib\\mpl-data\\stylelib\\_classic_test.mplstyle, line 477 ('animation.avconv_path: avconv     # Path to avconv binary. Without full path')\n",
      "You probably need to get an updated matplotlibrc file from\n",
      "https://github.com/matplotlib/matplotlib/blob/v3.5.1/matplotlibrc.template\n",
      "or from the matplotlib source distribution\n",
      "\n",
      "Bad key animation.avconv_args in file C:\\Users\\rudra\\anaconda3\\lib\\site-packages\\matplotlib\\mpl-data\\stylelib\\_classic_test.mplstyle, line 479 ('animation.avconv_args:            # Additional arguments to pass to avconv')\n",
      "You probably need to get an updated matplotlibrc file from\n",
      "https://github.com/matplotlib/matplotlib/blob/v3.5.1/matplotlibrc.template\n",
      "or from the matplotlib source distribution\n"
     ]
    }
   ],
   "source": [
    "import pandas as pd\n",
    "import numpy as np\n",
    "import datetime as dt\n",
    "from datetime import datetime\n",
    "# %matplotlib inline\n",
    "import matplotlib\n",
    "import matplotlib.pyplot as plt\n",
    "import math\n",
    "from sklearn.preprocessing import MinMaxScaler"
   ]
  },
  {
   "cell_type": "markdown",
   "metadata": {},
   "source": [
    "### Import Project Specific Libraries\n",
    "- **Yahoo Finance (yfinance)**: Gather ticker data\n",
    "- **Backtrader Technical Analysis Library (bta-lib)**: Gather trends and pattern indicators"
   ]
  },
  {
   "cell_type": "code",
   "execution_count": 2,
   "metadata": {},
   "outputs": [],
   "source": [
    "import btalib\n",
    "import yfinance as yf"
   ]
  },
  {
   "cell_type": "markdown",
   "metadata": {},
   "source": [
    "### Import Web Scraping Libraries\n",
    "- **requests**: Gather web data\n",
    "- **urllib**: Gather web data\n",
    "- **BeautifulSoup**: Extract web data"
   ]
  },
  {
   "cell_type": "code",
   "execution_count": 3,
   "metadata": {},
   "outputs": [],
   "source": [
    "import requests\n",
    "from urllib.request import urlopen, Request\n",
    "from bs4 import BeautifulSoup"
   ]
  },
  {
   "cell_type": "markdown",
   "metadata": {},
   "source": [
    "### Import Deep Learning Libraries\n",
    "- **PyTorch**: Create neutral networks\n",
    "- **TensorBoard**: Visualize training statistics\n"
   ]
  },
  {
   "cell_type": "code",
   "execution_count": 4,
   "metadata": {},
   "outputs": [],
   "source": [
    "import torch\n",
    "import torch.utils.tensorboard as tb\n"
   ]
  },
  {
   "cell_type": "markdown",
   "metadata": {},
   "source": [
    "### Import Natural Language Processing Tools\n",
    "- **transformers**: Use pre-trained deep learning models"
   ]
  },
  {
   "cell_type": "code",
   "execution_count": 5,
   "metadata": {},
   "outputs": [],
   "source": [
    "from transformers import AutoTokenizer, AutoModelForSequenceClassification"
   ]
  },
  {
   "cell_type": "markdown",
   "metadata": {},
   "source": [
    "### Import API Keys\n",
    "- **config**: Holds all private API keys\n"
   ]
  },
  {
   "cell_type": "code",
   "execution_count": 6,
   "metadata": {},
   "outputs": [],
   "source": [
    "from config import *"
   ]
  },
  {
   "cell_type": "markdown",
   "metadata": {},
   "source": [
    "## Data Collection"
   ]
  },
  {
   "cell_type": "markdown",
   "metadata": {},
   "source": [
    "We will be using Yahoo Finance in order to find the ticker data. This data will include:\n",
    "\n",
    "- **Date/DateTime**: Index\n",
    "- **Open**: Price of asset at beginning of Date/Datetime\n",
    "- **High**: Highest price of asset during Date/Datetime\n",
    "- **Low**: Lowest price of asset during Date/Datetime\n",
    "- **Close**: Price of stock at end of Date/Datetime\n",
    "- **Adj Close**: Close price adjusted due to corporate actions such as dividend payouts, stock splits, or the issuance of more shares"
   ]
  },
  {
   "cell_type": "code",
   "execution_count": 7,
   "metadata": {},
   "outputs": [],
   "source": [
    "def get_data(symbol, interval = \"1d\", start_date = \"2012-01-01\", end_date = \"2021-12-31\"):\n",
    "   \n",
    "    '''\n",
    "    Returns asset information\n",
    "\n",
    "            Parameters:\n",
    "                    symbol (string): ticker symbol for lookup\n",
    "                    interval (string): periods between datapoints (valid intervals: 1m,2m,5m,15m,30m,60m,90m,1h,1d,5d,1wk,1mo,3mo)\n",
    "                    start_date (string): format YYYY-MM-DD\n",
    "                    end_date (string): format YYYY-MM-DD\n",
    "            Returns:\n",
    "                    (DateFrame): Asset Information  \n",
    "    '''\n",
    "\n",
    "    return yf.download(symbol, start=start_date, end=end_date, interval=interval)"
   ]
  },
  {
   "cell_type": "code",
   "execution_count": 8,
   "metadata": {},
   "outputs": [
    {
     "name": "stdout",
     "output_type": "stream",
     "text": [
      "[*********************100%***********************]  1 of 1 completed\n"
     ]
    },
    {
     "data": {
      "text/html": [
       "<div>\n",
       "<style scoped>\n",
       "    .dataframe tbody tr th:only-of-type {\n",
       "        vertical-align: middle;\n",
       "    }\n",
       "\n",
       "    .dataframe tbody tr th {\n",
       "        vertical-align: top;\n",
       "    }\n",
       "\n",
       "    .dataframe thead th {\n",
       "        text-align: right;\n",
       "    }\n",
       "</style>\n",
       "<table border=\"1\" class=\"dataframe\">\n",
       "  <thead>\n",
       "    <tr style=\"text-align: right;\">\n",
       "      <th></th>\n",
       "      <th>Open</th>\n",
       "      <th>High</th>\n",
       "      <th>Low</th>\n",
       "      <th>Close</th>\n",
       "      <th>Adj Close</th>\n",
       "      <th>Volume</th>\n",
       "    </tr>\n",
       "    <tr>\n",
       "      <th>Date</th>\n",
       "      <th></th>\n",
       "      <th></th>\n",
       "      <th></th>\n",
       "      <th></th>\n",
       "      <th></th>\n",
       "      <th></th>\n",
       "    </tr>\n",
       "  </thead>\n",
       "  <tbody>\n",
       "    <tr>\n",
       "      <th>2012-01-03</th>\n",
       "      <td>14.621429</td>\n",
       "      <td>14.732143</td>\n",
       "      <td>14.607143</td>\n",
       "      <td>14.686786</td>\n",
       "      <td>12.557465</td>\n",
       "      <td>302220800</td>\n",
       "    </tr>\n",
       "    <tr>\n",
       "      <th>2012-01-04</th>\n",
       "      <td>14.642857</td>\n",
       "      <td>14.810000</td>\n",
       "      <td>14.617143</td>\n",
       "      <td>14.765714</td>\n",
       "      <td>12.624949</td>\n",
       "      <td>260022000</td>\n",
       "    </tr>\n",
       "    <tr>\n",
       "      <th>2012-01-05</th>\n",
       "      <td>14.819643</td>\n",
       "      <td>14.948214</td>\n",
       "      <td>14.738214</td>\n",
       "      <td>14.929643</td>\n",
       "      <td>12.765115</td>\n",
       "      <td>271269600</td>\n",
       "    </tr>\n",
       "    <tr>\n",
       "      <th>2012-01-06</th>\n",
       "      <td>14.991786</td>\n",
       "      <td>15.098214</td>\n",
       "      <td>14.972143</td>\n",
       "      <td>15.085714</td>\n",
       "      <td>12.898558</td>\n",
       "      <td>318292800</td>\n",
       "    </tr>\n",
       "    <tr>\n",
       "      <th>2012-01-09</th>\n",
       "      <td>15.196429</td>\n",
       "      <td>15.276786</td>\n",
       "      <td>15.048214</td>\n",
       "      <td>15.061786</td>\n",
       "      <td>12.878099</td>\n",
       "      <td>394024400</td>\n",
       "    </tr>\n",
       "  </tbody>\n",
       "</table>\n",
       "</div>"
      ],
      "text/plain": [
       "                 Open       High        Low      Close  Adj Close     Volume\n",
       "Date                                                                        \n",
       "2012-01-03  14.621429  14.732143  14.607143  14.686786  12.557465  302220800\n",
       "2012-01-04  14.642857  14.810000  14.617143  14.765714  12.624949  260022000\n",
       "2012-01-05  14.819643  14.948214  14.738214  14.929643  12.765115  271269600\n",
       "2012-01-06  14.991786  15.098214  14.972143  15.085714  12.898558  318292800\n",
       "2012-01-09  15.196429  15.276786  15.048214  15.061786  12.878099  394024400"
      ]
     },
     "execution_count": 8,
     "metadata": {},
     "output_type": "execute_result"
    }
   ],
   "source": [
    "# Pull Apple Stock data\n",
    "data = get_data(\"AAPL\")\n",
    "data.head()"
   ]
  },
  {
   "cell_type": "markdown",
   "metadata": {},
   "source": [
    "# Feature Construction"
   ]
  },
  {
   "cell_type": "markdown",
   "metadata": {},
   "source": [
    "## Technical Analysis"
   ]
  },
  {
   "cell_type": "markdown",
   "metadata": {},
   "source": [
    "A part of this study is to try and see if a model can use technical analysis (TA) as a way to create a trading strategy.\n",
    "\n",
    "Technical analysis is the study of trends and patterns in order to predict profitable trading decisions. There are 4 types of indictors we will in this study:\n",
    "\n",
    "- trend indictors\n",
    "- momentum indicators\n",
    "- volatility indicators\n",
    "- volume indicators. \n",
    "\n",
    "Typically, traders use only a 2-3 indictors for their strategy, however, our job is to also see if a model can determine which indictors are more important when making these decisions as well.\n",
    "\n",
    "In order to add TA to our data, we will be using bta-lib.\n",
    "\n",
    "Below, we will go in depth into a few indictors and how they are used."
   ]
  },
  {
   "cell_type": "markdown",
   "metadata": {},
   "source": [
    "### Simple Moving Average\n",
    "\n",
    "The simple moving average indictor is a trend indictor that finds the average price within a certain window of time. This helps smooth out the noise in price changes and helps traders see the general trend of the asset's price.\n",
    "\n",
    "Many traders also use two different moving averages on the same asset. One moving average would have a longer period than the other. In order to buy, the shorter moving average would have to be greater than the longer moving average, indicating that there is a rapid change in price upwards. The same is true vice versa.\n",
    "\n",
    "We will test if the model could potentially recognize this pattern and gauge if it is useful.\n",
    "\n"
   ]
  },
  {
   "cell_type": "markdown",
   "metadata": {},
   "source": [
    "![SMA](images/SMA.PNG)\n",
    "\n",
    "This chart shows Apple stock prices using the moving average indictors. The purple line shows the short term moving average of 12 days and the yellow line shows the long term moving average of 26 days. The green \"up\" arrow shows where a trader would buy and the red \"down\" arrow shows where a trader would sell using this strategy."
   ]
  },
  {
   "cell_type": "code",
   "execution_count": 9,
   "metadata": {},
   "outputs": [],
   "source": [
    "def get_MA(data, short_period=12, long_period=26):\n",
    "\n",
    "    '''\n",
    "    Adds Moving Averages to asset data\n",
    "\n",
    "        Parameters:\n",
    "                data (DataFrame): asset data\n",
    "                short_period (int): period over moving average taken (<long_period)\n",
    "                long_period (int): period over moving average taken (>short_period)\n",
    "\n",
    "        Returns:\n",
    "                (DateFrame): Asset Information\n",
    "    '''\n",
    "\n",
    "    # Get Moving Averages\n",
    "    ShortMA = btalib.sma(data, period=short_period)\n",
    "    LongMA = btalib.sma(data, period=long_period)\n",
    "\n",
    "    # Add to current data\n",
    "    data[\"ShortMA\"] = ShortMA.df\n",
    "    data[\"LongMA\"] = LongMA.df\n",
    "\n",
    "    return data"
   ]
  },
  {
   "cell_type": "markdown",
   "metadata": {},
   "source": [
    "### Exponential Moving Average\n",
    "\n",
    "The exponential moving average is similar to the simple moving average, however, it gives higher weigh to more recent changes within the window of time. This could better help find short term price trends than the simple moving average.\n",
    "\n",
    "Note: may only use this rather than the simple moving average for the model."
   ]
  },
  {
   "cell_type": "markdown",
   "metadata": {},
   "source": [
    "![EMA](images/EMA.PNG)\n",
    "\n",
    "This chart shows Apple stock prices using the exponential moving average indictors. The purple line shows the short term moving average of 12 days and the yellow line shows the long term moving average of 26 days. The green \"up\" arrow shows where a trader would buy and the red \"down\" arrow shows where a trader would sell using this strategy."
   ]
  },
  {
   "cell_type": "code",
   "execution_count": 10,
   "metadata": {},
   "outputs": [],
   "source": [
    "def get_EMA(data, short_period=12, long_period=26):\n",
    "    '''\n",
    "    Adds Exponential Moving Averages to asset data\n",
    "\n",
    "        Parameters:\n",
    "                data (DataFrame): asset data\n",
    "                short_period (int): period over moving average taken (<long_period)\n",
    "                long_period (int): period over moving average taken (>short_period)\n",
    "\n",
    "        Returns:\n",
    "                (DateFrame): Asset Information \n",
    "    '''\n",
    "    # Get Exponential Moving Averages\n",
    "    ShortEMA = btalib.ema(data, period=12)\n",
    "    LongEMA = btalib.ema(data, period=26)\n",
    "    \n",
    "    # Add to data\n",
    "    data[\"ShortEMA\"] = ShortEMA.df\n",
    "    data[\"LongEMA\"] = LongEMA.df\n",
    "\n",
    "    return data"
   ]
  },
  {
   "cell_type": "markdown",
   "metadata": {},
   "source": [
    "### Bollinger Bands\n"
   ]
  },
  {
   "cell_type": "markdown",
   "metadata": {},
   "source": [
    "The Bollinger Bands indictors is a kind of volatility indictor which uses the moving average over a portion of days and finds a certain standard deviation above and below that moving average. This indictor relies on the theory of mean reversion where asset prices, after spikes in price changes, revert towards the moving average of price. This indictor also shows how volatile an asset is; if the bands are farther apart, then the more volatile the asset is. Traders may use this strategy by buying an asset when the price reaches the lower standard deviation and then sell at the higher standard deviation. Usually, traders use 2 standard deviations away from the mean and have a moving average window of 20 periods."
   ]
  },
  {
   "cell_type": "markdown",
   "metadata": {},
   "source": [
    "![Simple Bollinger Bands](images/simpleBBands.PNG)"
   ]
  },
  {
   "cell_type": "markdown",
   "metadata": {},
   "source": [
    "The purple lines are two standard deviations and the yellow line is the moving average."
   ]
  },
  {
   "cell_type": "markdown",
   "metadata": {},
   "source": [
    "Of course, this strategy by itself or unaltered is not perfect, as it may miss out on trends. However, with stop losses (selling if price drops below certain value), band line slopes, and pattern recognition, this strategy may help the model learn more about correct buy and sell signals.\n",
    "\n",
    "Another possible way to improve this strategy is to add another set of Bollinger Bands that have a different standard deviation."
   ]
  },
  {
   "cell_type": "markdown",
   "metadata": {},
   "source": [
    "![Double Bollienger Bands](images/doubleBBands.PNG)"
   ]
  },
  {
   "cell_type": "markdown",
   "metadata": {},
   "source": [
    "Now the added blue lines are one standard deviation away from moving average and in this case, a strategy could be that a trader could buy at the lower wider (2 std) line and sell when the price touches the upper wider line and then falls below the upper narrow line (1 std)\n",
    "\n",
    "More research is needed to be done in this case but this might help model learn."
   ]
  },
  {
   "cell_type": "code",
   "execution_count": 11,
   "metadata": {},
   "outputs": [],
   "source": [
    "def get_BBands(data, period=20, wider_std=2, narrow_std=1):\n",
    "    \n",
    "    '''\n",
    "    Adds Bollinger Bands to asset data\n",
    "\n",
    "        Parameters:\n",
    "                data (DataFrame): asset data\n",
    "                period (int): period over moving average taken\n",
    "                wider_std (float): standard deviation of wider bands (>narrow_std)\n",
    "                narrow_std (float): standard deviation of narrow bands (<wider_std)\n",
    "\n",
    "\n",
    "        Returns:\n",
    "                (DateFrame): Asset Information \n",
    "    '''\n",
    "\n",
    "    try:\n",
    "        # Get Bollinger Bands (regular and narrowed)\n",
    "        mid, top, bot = btalib.bbands(data, period = period, devs = wider_std)\n",
    "        mid_narrow, top_narrow, bot_narrow = btalib.bbands(data, period = period, devs = narrow_std)\n",
    "    except ValueError:\n",
    "        print(\"Data broken...check timeframe\")\n",
    "        return None\n",
    "\n",
    "    # Add to asset data\n",
    "    data[\"Mid BBand\"] = list(mid)\n",
    "    data[\"Top BBand\"] = list(top)\n",
    "    data[\"Bot BBand\"] = list(bot)\n",
    "    data[\"Volatility\"] = data[\"Top BBand\"] - data[\"Bot BBand\"]\n",
    "    \n",
    "    data[\"Mid BBand Narrow\"] = list(mid_narrow)\n",
    "    data[\"Top BBand Narrow\"] = list(top_narrow)\n",
    "    data[\"Bot BBand Narrow\"] = list(bot_narrow)\n",
    "    \n",
    "    return data"
   ]
  },
  {
   "cell_type": "markdown",
   "metadata": {},
   "source": [
    "### Relative Strength Index"
   ]
  },
  {
   "cell_type": "markdown",
   "metadata": {},
   "source": [
    "The Relative Strength Index (RSI) is a momentum indictor that shows how oversold or overbought an asset is. Typically traders would sell when RSI is above 70 as the asset would be considered overbought and overvalued and buy when RSI is below 30 as the asset would then be considered oversold and undervalued. It is calculated using \n",
    "\n",
    "$100-(100/(1+(Avg Gain/Avg Loss)))$ \n",
    "\n",
    "This average gain and loss is computed over a given period. This period is typically 14 days."
   ]
  },
  {
   "cell_type": "markdown",
   "metadata": {},
   "source": [
    "![RSI](images/RSI.PNG)"
   ]
  },
  {
   "cell_type": "markdown",
   "metadata": {},
   "source": [
    "Here we see that RSI does a decent job at capturing trends. The goal of the model is to create its own interpretation of RSI if useful for modeling"
   ]
  },
  {
   "cell_type": "code",
   "execution_count": 12,
   "metadata": {},
   "outputs": [],
   "source": [
    "def get_RSI(data, period=14):\n",
    "    '''\n",
    "    Adds RSI to asset data\n",
    "\n",
    "        Parameters:\n",
    "                data (DataFrame): asset data\n",
    "                period (int): period over averages taken\n",
    "\n",
    "        Returns:\n",
    "                (DateFrame): Asset Information \n",
    "    '''\n",
    "    rsi = btalib.rsi(data, period = period)\n",
    "\n",
    "    data[\"RSI\"] = rsi.df\n",
    "\n",
    "    return data\n"
   ]
  },
  {
   "cell_type": "markdown",
   "metadata": {},
   "source": [
    "### Moving Average Convergence Divergence"
   ]
  },
  {
   "cell_type": "markdown",
   "metadata": {},
   "source": [
    "The Moving Average Convergence Divergence (MACD) is a trend/momentum indictor that finds the difference between two exponential moving averages (EMA). The MACD provides 3 metrics: MACD line, Signal line, and a histogram. The histogram represents how much the difference is between the two EMA's. Traders would usually buy when the MACD line crosses above the Signal line. In the case of the code, the model should buy when MACD changes from negative to positive and sell vice versa. The typical EMA periods are 12 periods and 26 periods."
   ]
  },
  {
   "cell_type": "markdown",
   "metadata": {},
   "source": [
    "![MACD](images/MACD.PNG)"
   ]
  },
  {
   "cell_type": "markdown",
   "metadata": {},
   "source": [
    "In the chart, the blue line is the MACD line and the orange line is the signal line. We see that this can see trends."
   ]
  },
  {
   "cell_type": "code",
   "execution_count": 13,
   "metadata": {},
   "outputs": [],
   "source": [
    "def get_MACD(data):\n",
    "    '''\n",
    "    Adds MACD to asset data\n",
    "\n",
    "        Parameters:\n",
    "                data (DataFrame): asset data\n",
    "\n",
    "        Returns:\n",
    "                (DateFrame): Asset Information \n",
    "    '''\n",
    "    MACD = data[\"ShortEMA\"] - data[\"LongEMA\"]\n",
    "\n",
    "    data[\"MACD\"] = MACD\n",
    "    \n",
    "    return data"
   ]
  },
  {
   "cell_type": "markdown",
   "metadata": {},
   "source": [
    "### Rate of Change"
   ]
  },
  {
   "cell_type": "markdown",
   "metadata": {},
   "source": [
    "Rate of change (ROC) is a momentum indictor that gets the percent difference between the current price and a price from a past period. If ROC changes from negative to positive, then buy, however, if ROC changes from positive to negative, then sell. Typically, traders use the current price and the last 12th price to calculate this value."
   ]
  },
  {
   "cell_type": "markdown",
   "metadata": {},
   "source": [
    "![ROC](images/ROC.PNG)"
   ]
  },
  {
   "cell_type": "markdown",
   "metadata": {},
   "source": [
    "## Market Correlation"
   ]
  },
  {
   "cell_type": "markdown",
   "metadata": {},
   "source": [
    "### Standard & Poor's 500\n",
    "\n",
    "The Standard & Poor's 500 Index (S&P 500) is considered to be a measure of market health. This is because the S&P 500 tracks the performance of the top 500 companies in the US market. If these companies are not doing well, the S&P 500 will drop and also be a good indictor that the rest of the market may not being doing well either. This can be used to compare to the current stock and if the trend of the S&P 500 is downwards, then it is also likely that the asset in question also has a downward trend."
   ]
  },
  {
   "cell_type": "code",
   "execution_count": 14,
   "metadata": {},
   "outputs": [],
   "source": [
    "def get_spy_return(data):\n",
    "    '''\n",
    "    Adds S&P 500 to asset data\n",
    "\n",
    "        Parameters:\n",
    "                data (DataFrame): asset data\n",
    "\n",
    "        Returns:\n",
    "                (DateFrame): Asset Information \n",
    "    '''\n",
    "    spy_data = get_data(\"SPY\")\n",
    "    closes = spy_data[\"Close\"]\n",
    "    \n",
    "    data[\"SPY_returns\"] = closes\n",
    "    return data"
   ]
  },
  {
   "cell_type": "markdown",
   "metadata": {},
   "source": [
    "### Treasury Bond Yield\n",
    "\n",
    "Treasury bonds (T-bonds) are government based, \"zero-risk,\" bonds. Treasury bonds prices are inversely correlated with interest rates. If interest rates rise, then bond prices will fall and investors would rather save their money rather than invest, which also causes the demand in the market to fall. In order to increase demand for these bonds and the market during times of high interest rates, bonds also have higher yields.\n",
    "\n",
    "This means that yields are correlated with interest rates. If we can capture the treasury bond yield, then we will also know the trend in interest rates and may make better market decisions. In this case, we will be using the 10-year treasury bond yield rates as a feature in our model.\n"
   ]
  },
  {
   "cell_type": "code",
   "execution_count": 15,
   "metadata": {},
   "outputs": [],
   "source": [
    "def get_t_bond(data):\n",
    "    '''\n",
    "    Adds T Bond Yield to asset data\n",
    "\n",
    "        Parameters:\n",
    "                data (DataFrame): asset data\n",
    "\n",
    "        Returns:\n",
    "                (DateFrame): Asset Information \n",
    "    '''\n",
    "    t_data = get_data(\"^TNX\")\n",
    "    data[\"Treasury_Yield_10_Years\"] = t_data[\"Close\"]\n",
    "    return data"
   ]
  },
  {
   "cell_type": "markdown",
   "metadata": {},
   "source": [
    "## Market Sentiment\n"
   ]
  },
  {
   "cell_type": "markdown",
   "metadata": {},
   "source": [
    "### Get Asset News Headlines\n",
    "\n",
    "Many investors look towards the news in order to find out how well the asset is performing and what future price changes may look like. We can scrape these new articles using an API and website. The API we will be using is the Finnhub API. The Finnhub API has a feature that allows for historical headlines however there are not many and they do not go far back in time. The Finviz website gives daily news updates for any ticket symbol that can be scraped. These two sources of new headlines can be used for sentiment analysis."
   ]
  },
  {
   "cell_type": "code",
   "execution_count": 16,
   "metadata": {},
   "outputs": [],
   "source": [
    "def get_past_headlines(symbol, end_date = \"2022-01-21\"):\n",
    "    '''\n",
    "    Use Finnhub to get company's last year of headlines\n",
    "\n",
    "        Parameters:\n",
    "                symbol (String): ticker symbol for lookup\n",
    "                end_date (String): date to pull news to\n",
    "\n",
    "        Returns:\n",
    "                (DateFrame): Asset Information \n",
    "    '''\n",
    "    \n",
    "    end_date_news = datetime.strptime(end_date, '%Y-%m-%d')\n",
    "    start_news_date = end_date_news - dt.timedelta(days=365)\n",
    "    start_news_date  = start_news_date.strftime(\"%Y-%m-%d\")\n",
    "    r = requests.get('https://finnhub.io/api/v1/company-news?symbol={}&from={}&to{}&token={}'.format(symbol, start_news_date, end_date, FINNHUB_API_KEY))\n",
    "    df = pd.DataFrame()\n",
    "    df[\"datetime\"]=pd.to_datetime([i[\"datetime\"] for i in r.json()], unit='s')\n",
    "    df[\"datetime\"] = df[\"datetime\"].dt.date\n",
    "    df[\"headline\"] = [i[\"headline\"] for i in r.json()]\n",
    "    df[\"summary\"] = [i[\"summary\"] for i in r.json()]\n",
    "\n",
    "    return df\n",
    "\n",
    "def get_current_headlines(symbol):\n",
    "    '''\n",
    "    Use Finnhub to get company's current news\n",
    "\n",
    "        Parameters:\n",
    "                symbol (String): ticker symbol for lookup\n",
    "\n",
    "        Returns:\n",
    "                (DateFrame): Asset Information \n",
    "    '''\n",
    "\n",
    "    finwiz_url = 'https://finviz.com/quote.ashx?t='\n",
    "\n",
    "    url = finwiz_url + symbol\n",
    "    req = Request(url=url,headers={'user-agent': 'my-app/0.0.1'}) \n",
    "    response = urlopen(req)    \n",
    "    html = BeautifulSoup(response, \"lxml\")\n",
    "\n",
    "    # Find the news table in the HTML\n",
    "    news_table = html.find(id='news-table')\n",
    "    \n",
    "    parsed_news = []\n",
    "\n",
    "    # Scrape all infomation in news table\n",
    "    for x in news_table.findAll('tr'):\n",
    "        text = x.a.get_text()  \n",
    "        date_scrape = x.td.text.split()\n",
    "        \n",
    "        if len(date_scrape) == 2:\n",
    "            date = date_scrape[0]\n",
    "            time = date_scrape[1]\n",
    "\n",
    "            date = datetime.strptime(date, '%b-%d-%y').date()\n",
    " \n",
    "        else:\n",
    "            date = parsed_news[-1][0]\n",
    "            time = date_scrape[0]\n",
    "\n",
    "        summary = \"\"\n",
    "        parsed_news.append([date,text,summary])\n",
    "    \n",
    "    news = pd.DataFrame(parsed_news, columns=[\"datetime\", \"headline\", \"summary\"])\n",
    "\n",
    "    return news"
   ]
  },
  {
   "cell_type": "code",
   "execution_count": 17,
   "metadata": {},
   "outputs": [],
   "source": [
    "current = get_current_headlines(\"AAPL\")\n",
    "past = get_past_headlines(\"AAPL\")\n",
    "\n",
    "news = pd.concat([current, past])"
   ]
  },
  {
   "cell_type": "code",
   "execution_count": 18,
   "metadata": {},
   "outputs": [
    {
     "data": {
      "text/html": [
       "<div>\n",
       "<style scoped>\n",
       "    .dataframe tbody tr th:only-of-type {\n",
       "        vertical-align: middle;\n",
       "    }\n",
       "\n",
       "    .dataframe tbody tr th {\n",
       "        vertical-align: top;\n",
       "    }\n",
       "\n",
       "    .dataframe thead th {\n",
       "        text-align: right;\n",
       "    }\n",
       "</style>\n",
       "<table border=\"1\" class=\"dataframe\">\n",
       "  <thead>\n",
       "    <tr style=\"text-align: right;\">\n",
       "      <th></th>\n",
       "      <th>datetime</th>\n",
       "      <th>headline</th>\n",
       "      <th>summary</th>\n",
       "    </tr>\n",
       "  </thead>\n",
       "  <tbody>\n",
       "    <tr>\n",
       "      <th>0</th>\n",
       "      <td>2022-05-09</td>\n",
       "      <td>Match sues Google after being refused the same...</td>\n",
       "      <td></td>\n",
       "    </tr>\n",
       "    <tr>\n",
       "      <th>1</th>\n",
       "      <td>2022-05-09</td>\n",
       "      <td>3 Tech Stocks Investors Shouldn't Lose Sleep Over</td>\n",
       "      <td></td>\n",
       "    </tr>\n",
       "    <tr>\n",
       "      <th>2</th>\n",
       "      <td>2022-05-09</td>\n",
       "      <td>Chinas Other Gaming Giant Is Quietly Snapping ...</td>\n",
       "      <td></td>\n",
       "    </tr>\n",
       "    <tr>\n",
       "      <th>3</th>\n",
       "      <td>2022-05-09</td>\n",
       "      <td>How Apple Stock Could Save the S&amp;P 500 From a ...</td>\n",
       "      <td></td>\n",
       "    </tr>\n",
       "    <tr>\n",
       "      <th>4</th>\n",
       "      <td>2022-05-09</td>\n",
       "      <td>Apple and Amazon Have Fallen for 6 Straight We...</td>\n",
       "      <td></td>\n",
       "    </tr>\n",
       "    <tr>\n",
       "      <th>...</th>\n",
       "      <td>...</td>\n",
       "      <td>...</td>\n",
       "      <td>...</td>\n",
       "    </tr>\n",
       "    <tr>\n",
       "      <th>222</th>\n",
       "      <td>2022-05-03</td>\n",
       "      <td>Apple call buyer realizes 17% same-day gains</td>\n",
       "      <td>Notable profits for the b... AAPL</td>\n",
       "    </tr>\n",
       "    <tr>\n",
       "      <th>223</th>\n",
       "      <td>2022-05-03</td>\n",
       "      <td>Apple's App Store revenue growth accelerated i...</td>\n",
       "      <td>Morgan Stanley analyst Ka... AAPL</td>\n",
       "    </tr>\n",
       "    <tr>\n",
       "      <th>224</th>\n",
       "      <td>2022-05-03</td>\n",
       "      <td>Should You Invest in the Vanguard Information ...</td>\n",
       "      <td>Looking for broad exposure to the Technology -...</td>\n",
       "    </tr>\n",
       "    <tr>\n",
       "      <th>225</th>\n",
       "      <td>2022-05-03</td>\n",
       "      <td>Avoid Spotify Stock Even if It's on Track for ...</td>\n",
       "      <td>Spotify is constantly mired in controversy, ha...</td>\n",
       "    </tr>\n",
       "    <tr>\n",
       "      <th>226</th>\n",
       "      <td>2022-05-03</td>\n",
       "      <td>PayPal helped start EU antitrust complaint aga...</td>\n",
       "      <td>PayPal (PYPL) helped star... PYPL, AAPL</td>\n",
       "    </tr>\n",
       "  </tbody>\n",
       "</table>\n",
       "<p>327 rows × 3 columns</p>\n",
       "</div>"
      ],
      "text/plain": [
       "       datetime                                           headline  \\\n",
       "0    2022-05-09  Match sues Google after being refused the same...   \n",
       "1    2022-05-09  3 Tech Stocks Investors Shouldn't Lose Sleep Over   \n",
       "2    2022-05-09  Chinas Other Gaming Giant Is Quietly Snapping ...   \n",
       "3    2022-05-09  How Apple Stock Could Save the S&P 500 From a ...   \n",
       "4    2022-05-09  Apple and Amazon Have Fallen for 6 Straight We...   \n",
       "..          ...                                                ...   \n",
       "222  2022-05-03       Apple call buyer realizes 17% same-day gains   \n",
       "223  2022-05-03  Apple's App Store revenue growth accelerated i...   \n",
       "224  2022-05-03  Should You Invest in the Vanguard Information ...   \n",
       "225  2022-05-03  Avoid Spotify Stock Even if It's on Track for ...   \n",
       "226  2022-05-03  PayPal helped start EU antitrust complaint aga...   \n",
       "\n",
       "                                               summary  \n",
       "0                                                       \n",
       "1                                                       \n",
       "2                                                       \n",
       "3                                                       \n",
       "4                                                       \n",
       "..                                                 ...  \n",
       "222                  Notable profits for the b... AAPL  \n",
       "223                  Morgan Stanley analyst Ka... AAPL  \n",
       "224  Looking for broad exposure to the Technology -...  \n",
       "225  Spotify is constantly mired in controversy, ha...  \n",
       "226            PayPal (PYPL) helped star... PYPL, AAPL  \n",
       "\n",
       "[327 rows x 3 columns]"
      ]
     },
     "execution_count": 18,
     "metadata": {},
     "output_type": "execute_result"
    }
   ],
   "source": [
    "# API does not give historical headlines as much\n",
    "news"
   ]
  },
  {
   "cell_type": "markdown",
   "metadata": {},
   "source": [
    "### Get News Sentiment\n",
    "Using the new headlines pulled from the API and website, we can get the sentiment of the asset on each period. We can use a pre-trained BERT (Bidirectional Encoder Representations from Transformers) model to get the sentiment of the headline's text. There is a BERT model that is trained on financial data. We will be using this model. This sentiment may be able to help the model make better trading decisions. "
   ]
  },
  {
   "cell_type": "code",
   "execution_count": 19,
   "metadata": {},
   "outputs": [],
   "source": [
    "def get_sentiment(data, news):\n",
    "    '''\n",
    "    Use FinBert to predict how positive or negative news it\n",
    "\n",
    "        Parameters:\n",
    "                symbol (String): ticker symbol for lookup\n",
    "\n",
    "        Returns:\n",
    "                (DateFrame): Asset Information \n",
    "    '''\n",
    "    # Get the Financial BERT model\n",
    "    tokenizer = AutoTokenizer.from_pretrained(\"ProsusAI/finbert\")\n",
    "    model = AutoModelForSequenceClassification.from_pretrained(\"ProsusAI/finbert\")\n",
    "\n",
    "\n",
    "\n",
    "    inputs = tokenizer(news[\"headline\"].tolist(), padding = True, truncation = True, return_tensors='pt')\n",
    "\n",
    "    outputs = model(**inputs)\n",
    "\n",
    "    predictions = torch.nn.functional.softmax(outputs.logits, dim=-1)\n",
    "\n",
    "    positive = predictions[:, 0].tolist()\n",
    "    negative = predictions[:, 1].tolist()\n",
    "    neutral = predictions[:, 2].tolist()\n",
    "\n",
    "    table = {'Headline':news[\"headline\"].tolist(),\n",
    "            \"Positive\":positive,\n",
    "            \"Negative\":negative, \n",
    "            \"Neutral\":neutral}\n",
    "        \n",
    "    df = pd.DataFrame(table, columns = [\"Headline\", \"Positive\", \"Negative\", \"Neutral\"])\n",
    "    news[\"Sentiment\"] = df[\"Positive\"] - df[\"Negative\"]\n",
    "    \n",
    "    news.drop(['headline', 'summary'], axis=1, inplace=True)\n",
    "\n",
    "    result = news.groupby(['datetime']).mean()\n",
    "    \n",
    "    dates_in_data = [i.strftime('%Y-%m-%d') for i in data.index]\n",
    "\n",
    "    \n",
    "    result.index = [i.strftime('%Y-%m-%d') for i in result.index]\n",
    "\n",
    "    result = result[result.index.isin(dates_in_data)]\n",
    "    number_missing = data.shape[0]-len(result)\n",
    "    missing = [0] * number_missing\n",
    "    senti = missing + result[\"Sentiment\"].tolist()\n",
    "\n",
    "    data[\"Sentiment\"] = senti\n",
    "\n",
    "    \n",
    "    return data"
   ]
  },
  {
   "cell_type": "markdown",
   "metadata": {},
   "source": [
    "### Get Features\n",
    "\n",
    "Here we create functions to combine technical analysis on prices and clean existing features."
   ]
  },
  {
   "cell_type": "code",
   "execution_count": 20,
   "metadata": {},
   "outputs": [],
   "source": [
    "def get_TA(data):\n",
    "    '''\n",
    "    Compiles all technical analysis and market correlation information\n",
    "\n",
    "        Parameters:\n",
    "                data (DataFrame): asset data\n",
    "\n",
    "        Returns:\n",
    "                (DateFrame): Asset data with new infomation\n",
    "    '''\n",
    "    data = get_BBands(data)\n",
    "    data = get_RSI(data)\n",
    "    data = get_EMA(data)\n",
    "    data = get_MA(data)\n",
    "    data = get_MACD(data)\n",
    "\n",
    "    data = get_spy_return(data)\n",
    "    data = get_t_bond(data)  \n",
    "    data.drop([\"Open\", \"High\", \"Low\", \"Adj Close\"], axis=1, inplace=True) \n",
    "\n",
    "    return data"
   ]
  },
  {
   "cell_type": "markdown",
   "metadata": {},
   "source": [
    "## Approach #1 Multi-Class Classification\n",
    "\n",
    "This approach was inspired by reading a research paper: Algorithmic Financial Trading with Deep Convolutional Neural Networks: Time Series to Image Conversion Approach (link provided below). In the paper, they use neural networks to predict 3 different actions: sell, buy, hold (do nothing). This may seen difficult to get the true labels, however the paper also goes in depth on how to calculate the true values of selling, buying, or holding. By scanning the data, we can find the minimum and maximum values within a window. The minimum value would be the buy signal and the maximum value would be the sell signal. All other values will be hold. Below is a reconstruction of that method."
   ]
  },
  {
   "cell_type": "markdown",
   "metadata": {},
   "source": [
    "https://www.researchgate.net/publication/324802031_Algorithmic_Financial_Trading_with_Deep_Convolutional_Neural_Networks_Time_Series_to_Image_Conversion_Approach"
   ]
  },
  {
   "cell_type": "code",
   "execution_count": 21,
   "metadata": {},
   "outputs": [],
   "source": [
    "def get_labels(data, window_size=11):\n",
    "    '''\n",
    "    Calculate all true labels/targets of the dataset\n",
    "\n",
    "        Parameters:\n",
    "                data (DataFrame): asset data\n",
    "                window_size (int): number of days to find mins and maxes\n",
    "\n",
    "        Returns:\n",
    "                (DateFrame): Asset data with new infomation\n",
    "    '''\n",
    "    counter_row = 0 #counterRow\n",
    "    num_periods = len(data) #numberOfDaysInFile\n",
    "    labels = np.zeros(num_periods)\n",
    "    labels[:] = np.nan\n",
    "\n",
    "    while(counter_row < num_periods):\n",
    "        counter_row += 1\n",
    "        if(counter_row > window_size):\n",
    "            window_begin_index = counter_row - window_size\n",
    "            window_ending_index = counter_row\n",
    "            # Middle is current day of decision\n",
    "            window_middle_index = (window_ending_index + window_begin_index) // 2\n",
    "\n",
    "            min_number = np.inf\n",
    "            min_index = -1\n",
    "\n",
    "            max_number = -1 \n",
    "            max_index = -1\n",
    "        \n",
    "            for i in range(window_begin_index, window_ending_index):\n",
    "                number = data.iloc[i][\"Close\"]\n",
    "                # if there is lower min, set that to new min\n",
    "                if number < min_number:\n",
    "                    min_number = number\n",
    "                    min_index = i\n",
    "                # if there is lower max, set that to new max\n",
    "                if number > max_number:\n",
    "                    max_number = number\n",
    "                    max_index = i\n",
    "        \n",
    "            if(max_index == window_middle_index):\n",
    "                labels[window_middle_index] = 0 # sell\n",
    "            elif(min_index == window_middle_index):\n",
    "                labels[window_middle_index] = 1 #buy\n",
    "            else:\n",
    "                labels[window_middle_index] = 2 #hold\n",
    "\n",
    "    data[\"Target\"] = labels\n",
    "    # All non-labeled points are hold\n",
    "    data[\"Target\"] =  data[\"Target\"].fillna(2)\n",
    "\n",
    "    return data"
   ]
  },
  {
   "cell_type": "markdown",
   "metadata": {},
   "source": [
    "## Compile all Features\n",
    "\n",
    "Note: Because we were not able to obtain free APIs to give historical headlines for a company, the sentiment of news articles will be mostly 0 or neutral throughout the dataset. In this case, it may be best to remove it for now and conduct training with only TA and market data."
   ]
  },
  {
   "cell_type": "code",
   "execution_count": 22,
   "metadata": {},
   "outputs": [
    {
     "name": "stdout",
     "output_type": "stream",
     "text": [
      "[*********************100%***********************]  1 of 1 completed\n",
      "getting TA\n",
      "[*********************100%***********************]  1 of 1 completed\n",
      "[*********************100%***********************]  1 of 1 completed\n",
      "getting true labels\n"
     ]
    },
    {
     "data": {
      "text/html": [
       "<div>\n",
       "<style scoped>\n",
       "    .dataframe tbody tr th:only-of-type {\n",
       "        vertical-align: middle;\n",
       "    }\n",
       "\n",
       "    .dataframe tbody tr th {\n",
       "        vertical-align: top;\n",
       "    }\n",
       "\n",
       "    .dataframe thead th {\n",
       "        text-align: right;\n",
       "    }\n",
       "</style>\n",
       "<table border=\"1\" class=\"dataframe\">\n",
       "  <thead>\n",
       "    <tr style=\"text-align: right;\">\n",
       "      <th></th>\n",
       "      <th>Close</th>\n",
       "      <th>Volume</th>\n",
       "      <th>Mid BBand</th>\n",
       "      <th>Top BBand</th>\n",
       "      <th>Bot BBand</th>\n",
       "      <th>Volatility</th>\n",
       "      <th>Mid BBand Narrow</th>\n",
       "      <th>Top BBand Narrow</th>\n",
       "      <th>Bot BBand Narrow</th>\n",
       "      <th>RSI</th>\n",
       "      <th>ShortEMA</th>\n",
       "      <th>LongEMA</th>\n",
       "      <th>ShortMA</th>\n",
       "      <th>LongMA</th>\n",
       "      <th>MACD</th>\n",
       "      <th>SPY_returns</th>\n",
       "      <th>Treasury_Yield_10_Years</th>\n",
       "      <th>Target</th>\n",
       "    </tr>\n",
       "    <tr>\n",
       "      <th>Date</th>\n",
       "      <th></th>\n",
       "      <th></th>\n",
       "      <th></th>\n",
       "      <th></th>\n",
       "      <th></th>\n",
       "      <th></th>\n",
       "      <th></th>\n",
       "      <th></th>\n",
       "      <th></th>\n",
       "      <th></th>\n",
       "      <th></th>\n",
       "      <th></th>\n",
       "      <th></th>\n",
       "      <th></th>\n",
       "      <th></th>\n",
       "      <th></th>\n",
       "      <th></th>\n",
       "      <th></th>\n",
       "    </tr>\n",
       "  </thead>\n",
       "  <tbody>\n",
       "    <tr>\n",
       "      <th>2012-01-03</th>\n",
       "      <td>14.686786</td>\n",
       "      <td>302220800</td>\n",
       "      <td>NaN</td>\n",
       "      <td>NaN</td>\n",
       "      <td>NaN</td>\n",
       "      <td>NaN</td>\n",
       "      <td>NaN</td>\n",
       "      <td>NaN</td>\n",
       "      <td>NaN</td>\n",
       "      <td>NaN</td>\n",
       "      <td>NaN</td>\n",
       "      <td>NaN</td>\n",
       "      <td>NaN</td>\n",
       "      <td>NaN</td>\n",
       "      <td>NaN</td>\n",
       "      <td>127.500000</td>\n",
       "      <td>1.960</td>\n",
       "      <td>2.0</td>\n",
       "    </tr>\n",
       "    <tr>\n",
       "      <th>2012-01-04</th>\n",
       "      <td>14.765714</td>\n",
       "      <td>260022000</td>\n",
       "      <td>NaN</td>\n",
       "      <td>NaN</td>\n",
       "      <td>NaN</td>\n",
       "      <td>NaN</td>\n",
       "      <td>NaN</td>\n",
       "      <td>NaN</td>\n",
       "      <td>NaN</td>\n",
       "      <td>NaN</td>\n",
       "      <td>NaN</td>\n",
       "      <td>NaN</td>\n",
       "      <td>NaN</td>\n",
       "      <td>NaN</td>\n",
       "      <td>NaN</td>\n",
       "      <td>127.699997</td>\n",
       "      <td>1.995</td>\n",
       "      <td>2.0</td>\n",
       "    </tr>\n",
       "    <tr>\n",
       "      <th>2012-01-05</th>\n",
       "      <td>14.929643</td>\n",
       "      <td>271269600</td>\n",
       "      <td>NaN</td>\n",
       "      <td>NaN</td>\n",
       "      <td>NaN</td>\n",
       "      <td>NaN</td>\n",
       "      <td>NaN</td>\n",
       "      <td>NaN</td>\n",
       "      <td>NaN</td>\n",
       "      <td>NaN</td>\n",
       "      <td>NaN</td>\n",
       "      <td>NaN</td>\n",
       "      <td>NaN</td>\n",
       "      <td>NaN</td>\n",
       "      <td>NaN</td>\n",
       "      <td>128.039993</td>\n",
       "      <td>1.993</td>\n",
       "      <td>2.0</td>\n",
       "    </tr>\n",
       "    <tr>\n",
       "      <th>2012-01-06</th>\n",
       "      <td>15.085714</td>\n",
       "      <td>318292800</td>\n",
       "      <td>NaN</td>\n",
       "      <td>NaN</td>\n",
       "      <td>NaN</td>\n",
       "      <td>NaN</td>\n",
       "      <td>NaN</td>\n",
       "      <td>NaN</td>\n",
       "      <td>NaN</td>\n",
       "      <td>NaN</td>\n",
       "      <td>NaN</td>\n",
       "      <td>NaN</td>\n",
       "      <td>NaN</td>\n",
       "      <td>NaN</td>\n",
       "      <td>NaN</td>\n",
       "      <td>127.709999</td>\n",
       "      <td>1.961</td>\n",
       "      <td>2.0</td>\n",
       "    </tr>\n",
       "    <tr>\n",
       "      <th>2012-01-09</th>\n",
       "      <td>15.061786</td>\n",
       "      <td>394024400</td>\n",
       "      <td>NaN</td>\n",
       "      <td>NaN</td>\n",
       "      <td>NaN</td>\n",
       "      <td>NaN</td>\n",
       "      <td>NaN</td>\n",
       "      <td>NaN</td>\n",
       "      <td>NaN</td>\n",
       "      <td>NaN</td>\n",
       "      <td>NaN</td>\n",
       "      <td>NaN</td>\n",
       "      <td>NaN</td>\n",
       "      <td>NaN</td>\n",
       "      <td>NaN</td>\n",
       "      <td>128.020004</td>\n",
       "      <td>1.960</td>\n",
       "      <td>2.0</td>\n",
       "    </tr>\n",
       "  </tbody>\n",
       "</table>\n",
       "</div>"
      ],
      "text/plain": [
       "                Close     Volume  Mid BBand  Top BBand  Bot BBand  Volatility  \\\n",
       "Date                                                                            \n",
       "2012-01-03  14.686786  302220800        NaN        NaN        NaN         NaN   \n",
       "2012-01-04  14.765714  260022000        NaN        NaN        NaN         NaN   \n",
       "2012-01-05  14.929643  271269600        NaN        NaN        NaN         NaN   \n",
       "2012-01-06  15.085714  318292800        NaN        NaN        NaN         NaN   \n",
       "2012-01-09  15.061786  394024400        NaN        NaN        NaN         NaN   \n",
       "\n",
       "            Mid BBand Narrow  Top BBand Narrow  Bot BBand Narrow  RSI  \\\n",
       "Date                                                                    \n",
       "2012-01-03               NaN               NaN               NaN  NaN   \n",
       "2012-01-04               NaN               NaN               NaN  NaN   \n",
       "2012-01-05               NaN               NaN               NaN  NaN   \n",
       "2012-01-06               NaN               NaN               NaN  NaN   \n",
       "2012-01-09               NaN               NaN               NaN  NaN   \n",
       "\n",
       "            ShortEMA  LongEMA  ShortMA  LongMA  MACD  SPY_returns  \\\n",
       "Date                                                                \n",
       "2012-01-03       NaN      NaN      NaN     NaN   NaN   127.500000   \n",
       "2012-01-04       NaN      NaN      NaN     NaN   NaN   127.699997   \n",
       "2012-01-05       NaN      NaN      NaN     NaN   NaN   128.039993   \n",
       "2012-01-06       NaN      NaN      NaN     NaN   NaN   127.709999   \n",
       "2012-01-09       NaN      NaN      NaN     NaN   NaN   128.020004   \n",
       "\n",
       "            Treasury_Yield_10_Years  Target  \n",
       "Date                                         \n",
       "2012-01-03                    1.960     2.0  \n",
       "2012-01-04                    1.995     2.0  \n",
       "2012-01-05                    1.993     2.0  \n",
       "2012-01-06                    1.961     2.0  \n",
       "2012-01-09                    1.960     2.0  "
      ]
     },
     "execution_count": 22,
     "metadata": {},
     "output_type": "execute_result"
    }
   ],
   "source": [
    "symbol = \"AAPL\"\n",
    "\n",
    "data = get_data(symbol)\n",
    "data.head()\n",
    "\n",
    "print(\"getting TA\")\n",
    "data = get_TA(data)\n",
    "\n",
    "# print(\"getting news\")\n",
    "# current = get_current_headlines(symbol)\n",
    "# past = get_past_headlines(symbol)\n",
    "\n",
    "# news = pd.concat([current, past])\n",
    "# print(\"calculating sentiment\")\n",
    "\n",
    "# data = get_sentiment(data, news)\n",
    "\n",
    "print(\"getting true labels\")\n",
    "data = get_labels(data, window_size=5)\n",
    "data.head()"
   ]
  },
  {
   "cell_type": "markdown",
   "metadata": {},
   "source": [
    "## Visualize True Labels\n",
    "\n",
    "We want to see how well the labels fit to the data. We want to see that buy signals are at the valleys and the sell signals are at the peaks of the closing data."
   ]
  },
  {
   "cell_type": "code",
   "execution_count": 23,
   "metadata": {},
   "outputs": [],
   "source": [
    "def plot_labels(data):\n",
    "    '''\n",
    "    Visualize/plot true labels \n",
    "\n",
    "        Parameters:\n",
    "                data (DataFrame): asset data\n",
    "    '''\n",
    "    df = data.copy()\n",
    "    # Buy price is where Target is 1\n",
    "    df[\"Buy\"] = [df.iloc[i][\"Close\"] if df.iloc[i][\"Target\"] == 1.0 else np.nan for i in range(len(df[\"Target\"]))]\n",
    "    # Sell price is where Target is 0\n",
    "    df[\"Sell\"] = [df.iloc[i][\"Close\"] if df.iloc[i][\"Target\"] == 0.0 else np.nan for i in range(len(df[\"Target\"]))]\n",
    "\n",
    "    fig = plt.figure(figsize=(8, 6))\n",
    "    plt.plot(df[\"Close\"], color = \"blue\", alpha = .5)\n",
    "    \n",
    "    # If there is a Buy signal, plot buys\n",
    "    if(not df[\"Buy\"].isnull().all()):\n",
    "        plt.scatter(df.index, df[\"Buy\"], color = 'green', marker=\"^\", alpha=1)\n",
    "    # If there is a Sell signal, plot sells\n",
    "    if(not df[\"Sell\"].isnull().all()):\n",
    "        plt.scatter(df.index, df[\"Sell\"], color = 'red', marker=\"v\", alpha=1)\n",
    "\n",
    "    plt.show() \n",
    "    # fig.savefig('ML_charts/{}_target_chart.png'.format(symbol))\n",
    "    plt.close(fig)"
   ]
  },
  {
   "cell_type": "markdown",
   "metadata": {},
   "source": [
    "Based on this plot, it seems that the labels did a good job at finding the right buy and sell signals."
   ]
  },
  {
   "cell_type": "code",
   "execution_count": 24,
   "metadata": {},
   "outputs": [
    {
     "data": {
      "image/png": "[encoded data removed]",
      "text/plain": [
       "<Figure size 576x432 with 1 Axes>"
      ]
     },
     "metadata": {
      "needs_background": "light"
     },
     "output_type": "display_data"
    }
   ],
   "source": [
    "plot_labels(data)"
   ]
  },
  {
   "cell_type": "code",
   "execution_count": 25,
   "metadata": {},
   "outputs": [],
   "source": [
    "data = data.dropna()"
   ]
  },
  {
   "cell_type": "markdown",
   "metadata": {},
   "source": [
    "## Train-Val-Test Split\n",
    "\n",
    "We would need to create a training, validation, and test set. The training set would need to have more data then the validation and test set. For each training iteration, the model will learn the weights of the features using the training set and test these weights on the validation set. The validation set is needed to test if the model is over fitting to the training set. We can determine this through the loss function which will be explained in greater detail below in the training section. After all the training is done, the model is then ran on the test set data.\n",
    "\n",
    "Because of the sequential order of time series data, we can no do a traditional train-test split. This is because a regular train-test split would shuffle the data points and cause them to be out order. We want the model to detect any seasonality and trend. In order to do that, we would need to partition the unshuffled data set.\n",
    "\n",
    " Below, we have stated that the first 60% of the data set would be the training data set, the next 10% would be the validation set and the remaining ~30% would be the test set."
   ]
  },
  {
   "cell_type": "code",
   "execution_count": 26,
   "metadata": {},
   "outputs": [],
   "source": [
    "train_size = int(len(data)*.6)\n",
    "val_size = int(len(data) *.1)\n",
    "test_size = len(data)-train_size-val_size"
   ]
  },
  {
   "cell_type": "markdown",
   "metadata": {},
   "source": [
    "Using this code, we can see how the data is split. The first section is training. The second section is validation. The third section is the test."
   ]
  },
  {
   "cell_type": "code",
   "execution_count": 27,
   "metadata": {},
   "outputs": [
    {
     "data": {
      "image/png": "[encoded data removed]",
      "text/plain": [
       "<Figure size 432x288 with 1 Axes>"
      ]
     },
     "metadata": {
      "needs_background": "light"
     },
     "output_type": "display_data"
    }
   ],
   "source": [
    "plt.plot(data[\"Close\"], color = \"blue\", alpha = .5)\n",
    "# Get the X values that would have lines to symbolize splitting of the data\n",
    "xcoords = [data.index[train_size], data.index[train_size+val_size]]\n",
    "for xc in xcoords:\n",
    "    plt.axvline(x=xc)"
   ]
  },
  {
   "cell_type": "code",
   "execution_count": 28,
   "metadata": {},
   "outputs": [],
   "source": [
    "train_df = data[:train_size]\n",
    "val_df = data[train_size: train_size+val_size]\n",
    "test_df = data[train_size+val_size:]"
   ]
  },
  {
   "cell_type": "markdown",
   "metadata": {},
   "source": [
    "# Normalization\n",
    "\n",
    "Because of the big differences in feature sizes where one number may ne in the hundred millions, while other numbers are single digits, we would need to normalize. Without normalization, bigger numbers in certain features will dominate the model and have a greater impact compared to smaller numbers in other features. We can normalize using a MinMaxScaler for each feature column. MinMaxScaler: X_norm  = (X - Xmin)/(Xmax – Xmin). This will allow all the features to have the same weights throughout the model"
   ]
  },
  {
   "cell_type": "code",
   "execution_count": 29,
   "metadata": {},
   "outputs": [],
   "source": [
    "# All columns except the target (last one) will be normalized\n",
    "norm_cols = list(train_df.columns)[:-1]"
   ]
  },
  {
   "cell_type": "code",
   "execution_count": 30,
   "metadata": {},
   "outputs": [
    {
     "name": "stderr",
     "output_type": "stream",
     "text": [
      "C:\\Users\\rudra\\anaconda3\\lib\\site-packages\\pandas\\core\\frame.py:3678: SettingWithCopyWarning: \n",
      "A value is trying to be set on a copy of a slice from a DataFrame.\n",
      "Try using .loc[row_indexer,col_indexer] = value instead\n",
      "\n",
      "See the caveats in the documentation: https://pandas.pydata.org/pandas-docs/stable/user_guide/indexing.html#returning-a-view-versus-a-copy\n",
      "  self[col] = igetitem(value, i)\n",
      "C:\\Users\\rudra\\anaconda3\\lib\\site-packages\\pandas\\core\\frame.py:3678: SettingWithCopyWarning: \n",
      "A value is trying to be set on a copy of a slice from a DataFrame.\n",
      "Try using .loc[row_indexer,col_indexer] = value instead\n",
      "\n",
      "See the caveats in the documentation: https://pandas.pydata.org/pandas-docs/stable/user_guide/indexing.html#returning-a-view-versus-a-copy\n",
      "  self[col] = igetitem(value, i)\n",
      "C:\\Users\\rudra\\anaconda3\\lib\\site-packages\\pandas\\core\\frame.py:3678: SettingWithCopyWarning: \n",
      "A value is trying to be set on a copy of a slice from a DataFrame.\n",
      "Try using .loc[row_indexer,col_indexer] = value instead\n",
      "\n",
      "See the caveats in the documentation: https://pandas.pydata.org/pandas-docs/stable/user_guide/indexing.html#returning-a-view-versus-a-copy\n",
      "  self[col] = igetitem(value, i)\n"
     ]
    }
   ],
   "source": [
    "# Normalize using the training dataframe\n",
    "scaler = MinMaxScaler()\n",
    "train_df[norm_cols] = scaler.fit_transform(train_df[norm_cols])\n",
    "# Fit training normalization\n",
    "val_df[norm_cols] = scaler.transform(val_df[norm_cols])\n",
    "test_df[norm_cols] = scaler.transform(test_df[norm_cols])"
   ]
  },
  {
   "cell_type": "markdown",
   "metadata": {},
   "source": [
    "## Data Preprocessing\n",
    "\n",
    "In order to insert data into the network, we would have to create the necessary inputs. We plan to use an LSTM model. For the LSTM, we need to send the features of the last X days. Using the patterns and trends seen in the last X day's models, the LSTM can predict an output."
   ]
  },
  {
   "cell_type": "code",
   "execution_count": 31,
   "metadata": {},
   "outputs": [],
   "source": [
    "# Split into features and target variables\n",
    "train_x, train_y = train_df.iloc[:,:-1],train_df.iloc[:,-1]\n",
    "val_x, val_y = val_df.iloc[:,:-1],val_df.iloc[:,-1]\n",
    "test_x, test_y = test_df.iloc[:,:-1],test_df.iloc[:,-1]"
   ]
  },
  {
   "cell_type": "markdown",
   "metadata": {},
   "source": [
    "Window size refers to the number of days used as input into the LSTM model."
   ]
  },
  {
   "cell_type": "code",
   "execution_count": 32,
   "metadata": {},
   "outputs": [],
   "source": [
    "WINDOW_SIZE = 30"
   ]
  },
  {
   "cell_type": "markdown",
   "metadata": {},
   "source": [
    "The function below creates input data that use the last X days, Returns list of lists. The inner lists contain the features for each of the last X days.\n"
   ]
  },
  {
   "cell_type": "code",
   "execution_count": 33,
   "metadata": {},
   "outputs": [],
   "source": [
    "def create_sequences(data, window = WINDOW_SIZE):\n",
    "    '''\n",
    "    Structure the data in a way that can be inputted into model\n",
    "\n",
    "        Parameters:\n",
    "                data (DataFrame): asset data\n",
    "                window_size (int): number of days to put back into\n",
    "\n",
    "        Returns:\n",
    "                (list): list of lists; inner list is list of previous days\n",
    "    '''\n",
    "    seq = []\n",
    "   \n",
    "    for i in range(len(data)-window):\n",
    "        record = []\n",
    "        for j in range(window):\n",
    "            \n",
    "            record.append(data.iloc[i+j].values)\n",
    "        seq.append(record)\n",
    "\n",
    "    \n",
    "    return seq \n",
    "\n",
    "\n"
   ]
  },
  {
   "cell_type": "markdown",
   "metadata": {},
   "source": [
    "The function below creates input data that use the last X days and returns a list of lists. The inner lists contain the features for each of the last X days.\n"
   ]
  },
  {
   "cell_type": "code",
   "execution_count": 34,
   "metadata": {},
   "outputs": [],
   "source": [
    "def create_model_input(seq, y, window=WINDOW_SIZE):\n",
    "    '''\n",
    "    Combine the last X days features with the associated target value \n",
    "        Parameters:\n",
    "                seq (list): contains lsit of lists of previous days sequences \n",
    "                window_size (int): number of days to ignore in beginning of target list\n",
    "\n",
    "        Returns:\n",
    "                (list): list of 1. input tensors  of previous data's features and 2. tensor of target value\n",
    "    '''\n",
    "    # ignore previous days targets to start input\n",
    "    y = y[window:]\n",
    "    assert len(seq) == len(y)\n",
    "    \n",
    "    # Convert input list to tensors\n",
    "    seq_tensor = [torch.tensor(l) for l in seq]\n",
    "    # Convert target to tensor\n",
    "    y_tensor = [torch.tensor(l).unsqueeze(0) for l in y]\n",
    "    # Put the tensors togethers\n",
    "    inout_seq = list(zip(seq_tensor, y_tensor))\n",
    "    return inout_seq\n",
    "    "
   ]
  },
  {
   "cell_type": "code",
   "execution_count": 35,
   "metadata": {},
   "outputs": [],
   "source": [
    "train_seq = create_sequences(train_x)\n",
    "train_inout_seq = create_model_input(train_seq, train_y)\n",
    "\n",
    "val_seq = create_sequences(val_x)\n",
    "val_inout_seq = create_model_input(val_seq, val_y)\n",
    "\n",
    "test_seq = create_sequences(test_x)\n",
    "test_inout_seq = create_model_input(test_seq, test_y)"
   ]
  },
  {
   "cell_type": "code",
   "execution_count": 36,
   "metadata": {},
   "outputs": [
    {
     "data": {
      "text/plain": [
       "(tensor([[0.0998, 0.2479, 0.0330, 0.0483, 0.0318, 0.2902, 0.0330, 0.0413, 0.0255,\n",
       "          0.8897, 0.0545, 0.0199, 0.0558, 0.0229, 0.7597, 0.0468, 0.3669],\n",
       "         [0.1189, 0.5741, 0.0374, 0.0587, 0.0298, 0.3417, 0.0374, 0.0489, 0.0267,\n",
       "          0.9445, 0.0616, 0.0251, 0.0633, 0.0268, 0.7843, 0.0479, 0.4102],\n",
       "         [0.1192, 0.4009, 0.0419, 0.0670, 0.0301, 0.3754, 0.0419, 0.0554, 0.0292,\n",
       "          0.9452, 0.0677, 0.0300, 0.0681, 0.0307, 0.8003, 0.0413, 0.3633],\n",
       "         [0.1298, 0.3228, 0.0470, 0.0762, 0.0309, 0.4110, 0.0470, 0.0627, 0.0321,\n",
       "          0.9692, 0.0746, 0.0354, 0.0741, 0.0348, 0.8203, 0.0479, 0.3759],\n",
       "         [0.1378, 0.2839, 0.0523, 0.0859, 0.0313, 0.4506, 0.0523, 0.0704, 0.0350,\n",
       "          0.9846, 0.0817, 0.0411, 0.0805, 0.0390, 0.8403, 0.0468, 0.3361],\n",
       "         [0.1241, 1.0000, 0.0566, 0.0913, 0.0342, 0.4612, 0.0566, 0.0752, 0.0386,\n",
       "          0.7985, 0.0855, 0.0452, 0.0850, 0.0426, 0.8375, 0.0426, 0.3404],\n",
       "         [0.1294, 0.6154, 0.0612, 0.0965, 0.0381, 0.4671, 0.0612, 0.0802, 0.0429,\n",
       "          0.8177, 0.0895, 0.0494, 0.0897, 0.0465, 0.8366, 0.0525, 0.3777],\n",
       "         [0.1293, 0.3355, 0.0663, 0.0993, 0.0454, 0.4496, 0.0663, 0.0842, 0.0491,\n",
       "          0.8163, 0.0930, 0.0533, 0.0944, 0.0503, 0.8317, 0.0548, 0.3880],\n",
       "         [0.1440, 0.3833, 0.0718, 0.1046, 0.0507, 0.4499, 0.0718, 0.0896, 0.0546,\n",
       "          0.8662, 0.0982, 0.0581, 0.1006, 0.0548, 0.8392, 0.0552, 0.4090],\n",
       "         [0.1419, 0.2995, 0.0775, 0.1063, 0.0605, 0.4173, 0.0775, 0.0934, 0.0624,\n",
       "          0.8390, 0.1024, 0.0624, 0.1061, 0.0593, 0.8388, 0.0523, 0.3849],\n",
       "         [0.1458, 0.3576, 0.0819, 0.1111, 0.0641, 0.4228, 0.0819, 0.0980, 0.0665,\n",
       "          0.8522, 0.1065, 0.0667, 0.1114, 0.0637, 0.8383, 0.0563, 0.3723],\n",
       "         [0.1528, 0.2528, 0.0867, 0.1159, 0.0688, 0.4236, 0.0867, 0.1029, 0.0713,\n",
       "          0.8747, 0.1112, 0.0712, 0.1169, 0.0683, 0.8411, 0.0583, 0.3681],\n",
       "         [0.1567, 0.3436, 0.0916, 0.1203, 0.0740, 0.4214, 0.0916, 0.1076, 0.0763,\n",
       "          0.8866, 0.1157, 0.0757, 0.1220, 0.0730, 0.8431, 0.0598, 0.3349],\n",
       "         [0.1678, 0.3797, 0.0968, 0.1264, 0.0779, 0.4314, 0.0968, 0.1133, 0.0809,\n",
       "          0.9175, 0.1214, 0.0808, 0.1263, 0.0785, 0.8522, 0.0624, 0.3392],\n",
       "         [0.1760, 0.6205, 0.1021, 0.1332, 0.0815, 0.4452, 0.1021, 0.1195, 0.0854,\n",
       "          0.9369, 0.1275, 0.0862, 0.1313, 0.0841, 0.8636, 0.0589, 0.3681],\n",
       "         [0.1783, 0.4365, 0.1076, 0.1387, 0.0867, 0.4471, 0.1076, 0.1251, 0.0908,\n",
       "          0.9423, 0.1331, 0.0913, 0.1356, 0.0901, 0.8705, 0.0636, 0.4042],\n",
       "         [0.1792, 0.2642, 0.1132, 0.1424, 0.0941, 0.4325, 0.1132, 0.1298, 0.0974,\n",
       "          0.9442, 0.1379, 0.0961, 0.1393, 0.0948, 0.8723, 0.0608, 0.3735],\n",
       "         [0.1652, 0.5227, 0.1178, 0.1425, 0.1031, 0.3962, 0.1178, 0.1321, 0.1042,\n",
       "          0.7526, 0.1398, 0.0995, 0.1429, 0.0991, 0.8545, 0.0571, 0.3849],\n",
       "         [0.1619, 0.5234, 0.1219, 0.1412, 0.1126, 0.3520, 0.1219, 0.1335, 0.1111,\n",
       "          0.7120, 0.1408, 0.1023, 0.1458, 0.1031, 0.8326, 0.0439, 0.3482],\n",
       "         [0.1624, 0.5154, 0.1258, 0.1393, 0.1223, 0.3044, 0.1258, 0.1344, 0.1179,\n",
       "          0.7146, 0.1417, 0.1050, 0.1488, 0.1069, 0.8120, 0.0501, 0.3651],\n",
       "         [0.1755, 0.3222, 0.1299, 0.1394, 0.1303, 0.2720, 0.1299, 0.1364, 0.1240,\n",
       "          0.7767, 0.1446, 0.1085, 0.1515, 0.1110, 0.8056, 0.0590, 0.3904],\n",
       "         [0.1792, 0.2555, 0.1331, 0.1418, 0.1343, 0.2659, 0.1331, 0.1393, 0.1277,\n",
       "          0.7921, 0.1477, 0.1120, 0.1548, 0.1153, 0.8008, 0.0625, 0.4048],\n",
       "         [0.1871, 0.2475, 0.1368, 0.1448, 0.1384, 0.2617, 0.1368, 0.1427, 0.1316,\n",
       "          0.8231, 0.1516, 0.1159, 0.1585, 0.1200, 0.8015, 0.0626, 0.4006],\n",
       "         [0.2057, 0.4417, 0.1408, 0.1525, 0.1386, 0.2933, 0.1408, 0.1486, 0.1338,\n",
       "          0.8816, 0.1579, 0.1211, 0.1632, 0.1252, 0.8179, 0.0789, 0.4464],\n",
       "         [0.2306, 0.9402, 0.1458, 0.1662, 0.1343, 0.3690, 0.1458, 0.1582, 0.1341,\n",
       "          0.9357, 0.1673, 0.1278, 0.1697, 0.1313, 0.8529, 0.0779, 0.5470],\n",
       "         [0.2259, 0.7628, 0.1513, 0.1747, 0.1365, 0.3955, 0.1513, 0.1653, 0.1379,\n",
       "          0.8851, 0.1745, 0.1337, 0.1749, 0.1369, 0.8711, 0.0833, 0.5512],\n",
       "         [0.2260, 0.5339, 0.1565, 0.1817, 0.1396, 0.4124, 0.1565, 0.1715, 0.1421,\n",
       "          0.8851, 0.1806, 0.1392, 0.1793, 0.1422, 0.8809, 0.0805, 0.5614],\n",
       "         [0.2439, 0.5858, 0.1627, 0.1914, 0.1418, 0.4441, 0.1627, 0.1796, 0.1464,\n",
       "          0.9242, 0.1887, 0.1456, 0.1851, 0.1474, 0.9028, 0.0842, 0.6102],\n",
       "         [0.2496, 0.5278, 0.1684, 0.2017, 0.1424, 0.4853, 0.1684, 0.1877, 0.1495,\n",
       "          0.9348, 0.1965, 0.1521, 0.1914, 0.1528, 0.9209, 0.0814, 0.6060],\n",
       "         [0.2456, 0.4096, 0.1739, 0.2089, 0.1461, 0.5007, 0.1739, 0.1942, 0.1542,\n",
       "          0.8894, 0.2024, 0.1578, 0.1985, 0.1577, 0.9258, 0.0799, 0.5590]],\n",
       "        dtype=torch.float64),\n",
       " tensor([2.]))"
      ]
     },
     "execution_count": 36,
     "metadata": {},
     "output_type": "execute_result"
    }
   ],
   "source": [
    "train_inout_seq[0]"
   ]
  },
  {
   "cell_type": "markdown",
   "metadata": {},
   "source": [
    "## The Model (LSTM)\n",
    "An LSTM (Long Short Term Memory) network is a type of RNN (Recurrent Neural Network). The LSTM model does a great job at using older and more recent data to make predictions about the current state because it has 3 gates in which data flows through: an input gate, an output gate and a forget gate. This forget gate allows the network to emphasis information that is more important and needed for predictions. This gate also determines how much of the sequence input data should be used for the prediction and how much should be remembered for the next prediction. This is more advanced than an RNN as an RNN does not have this gate. RNNs are able to use long inputs of data but suffer from the exploding and vanishing gradients effect when back propagating through the network This  Because of this feature of the forget/memory gate, it is a very popular network to use on time-series data.\n",
    "\n",
    "PyTorch provides a very good LSTM model. We can use this PyTorch LSTM model as a part of our overall network. The LSTM model has input, output, number of LSTM layers, and dropout parameters. the input and output layers are standard for network modules. The LSTM layer parameter explains how many LSTM should be used on the input data recurrently. The dropout parameter can be used to remove/ignore nodes when training to explore other features. This would reduce chances of the model over-fitting on the training data. In the LSTM module, it can only be applied if there are more than 1 LSTM layer as dropout would act between LSTM layers.\n",
    "\n",
    "For classification, the input layer would have the number of features, which in this case is 17. The output layer would be 1 because we are predicting the probability of 3 class values representing buy, sell, or hold.\n"
   ]
  },
  {
   "cell_type": "code",
   "execution_count": 37,
   "metadata": {},
   "outputs": [],
   "source": [
    "NUM_FEATURES = 17\n",
    "BATCH_SIZE = 1\n",
    "class NetworkClassifier(torch.nn.Module):\n",
    "    def __init__(self, input_size = NUM_FEATURES, hidden_size = 128, output_size = 3, batch_size = BATCH_SIZE, dropout = 0.2, num_layers=2):\n",
    "        super().__init__()\n",
    "        self.input_size = input_size #num of features\n",
    "        self.hidden_size = hidden_size\n",
    "        self.output_size = output_size    \n",
    "        self.batch_size = batch_size\n",
    "        self.num_layers = num_layers  \n",
    "\n",
    "        self.lstm = torch.nn.LSTM(self.input_size, self.hidden_size, self.num_layers, dropout=dropout)\n",
    "        self.linear = torch.nn.Linear(self.hidden_size, self.output_size)\n",
    "        # a new hidden-state (the LSTM requires, unlike RNNs, two hidden-states in a tuple)\n",
    "        \n",
    "\n",
    "    def forward(self, input_seq):\n",
    "        hidden = (torch.zeros(self.num_layers, self.batch_size, self.hidden_size), torch.zeros(self.num_layers, self.batch_size, self.hidden_size))\n",
    "        lstm_out, hidden = self.lstm(input_seq, hidden) \n",
    "        out = self.linear(hidden[0])\n",
    "        # for classifiction we mostly just want the last one  \n",
    "        return out[-1]"
   ]
  },
  {
   "cell_type": "markdown",
   "metadata": {},
   "source": [
    "## Training Loop\n",
    "\n",
    "This training loop uses a set of hyperparameters to see which parameters lead to the lowest training and validation loss without overfitting. The hyperparameters that need to be tuned are the learning rate (lr), hidden size, dropout, number of layers, and the optimizer used. \n",
    "\n",
    "The learning rate adjusts the amount that is iterated towards a minimum of a loss function. If the learning rate is too high then it keep skipping the minimum and never reach it. If it is too low, then it would take too long to train or get stuck at a local minimum. This is why we need to tune it.\n",
    "\n",
    "The hidden size refers to the number of neurons to be set for the hidden layer. This would slightly change the network in allowing to to break up the features into components of different weights. More hidden sizes means more weights to be assigned and tunned and therefore, leads to more time to train. More hidden sizes also a means a more complex model which can be prone to overfitting. Less hidden sizes means that the model may have trouble weighing the features properly. \n",
    "\n",
    "Dropout was explained above in the model section. If there is too much dropout, then the model will throw away too much information about the features and not learn much. If there is too little dropout, then the model may overfit to the training data.\n",
    "\n",
    "The number of layers was also explained above. More number of layers makes the model more complex and can overfit. Less number of layers could make the feature weights harder to learn.\n",
    "\n",
    "Lastly, the optimizer used can be tuned. There are 2 main optimizers: Stochastic Gradient Descent (SGD) and Adam. SGD is know to generalize well and Adam is known to be more specific to the data. SGD is also know to converge faster than Adam. Both of these optimizers can lead to different results for loss and therefore we should try both.\n",
    "\n",
    "We also want the model to predict a buy/sell more often than a hold. If the classes were equal weighted, then the model will find that the lowest loss value would be obtained by predicting hold or no action at every time step. This is not useful. In order to avoid this, we can throw in class weights to our loss function (Cross Entropy). These weights can be computed by using the frequency of the class in the training set. This means that the lower frequency of the class, the higher importance of predicting it in training, the higher the weight.\n",
    "\n",
    "Usually for training models, we would oversample using SMOTE, but that would much harder with a time-series dataset where values must be predicted based on the last X days of data points."
   ]
  },
  {
   "cell_type": "code",
   "execution_count": 39,
   "metadata": {},
   "outputs": [],
   "source": [
    "# Use the count of the classes to determine the weights\n",
    "class_weights = [1/(train_df[\"Target\"].value_counts()[class_num]) for class_num in range(3)]\n",
    "class_weights=torch.tensor(class_weights,dtype=torch.float)"
   ]
  },
  {
   "cell_type": "code",
   "execution_count": null,
   "metadata": {},
   "outputs": [],
   "source": [
    "epochs = 40\n",
    "\n",
    "hidden_sizes = [32, 64, 128, 256]\n",
    "n_dropouts = [0, .2, .4, .6]\n",
    "num_layers = [1,2,3,4]\n",
    "\n",
    "lrs = [,1,.01,.001,.0001]\n",
    "opt_texts = [\"adam\", \"sgd\"]\n",
    "\n",
    "\n",
    "#stopped at: hs_128_do_0.2_nl_2_lr_0.0001_opt_adam_03-04-1053\n",
    "##  Hyper parameter tuning\n",
    "# For each parameter combination (grid search)\n",
    "for hidden_size in hidden_sizes:\n",
    "    for dropout in n_dropouts:   \n",
    "        for num_layer in num_layers:\n",
    "            # Create the model with the specific parameters\n",
    "            model = NetworkClassifier(hidden_size=hidden_size, dropout=dropout, num_layers=num_layer)\n",
    "            \n",
    "            for lr in lrs:\n",
    "                for opt_text in opt_texts:\n",
    "                    # Pick optimizer\n",
    "                    if opt_text == \"adam\":\n",
    "                        opt = torch.optim.Adam(model.parameters(),lr=lr)\n",
    "                    else:\n",
    "                        opt = torch.optim.SGD(model.parameters(),lr=lr)\n",
    "\n",
    "                    loss_func = torch.nn.CrossEntropyLoss(weight=class_weights)\n",
    "                    \n",
    "                    # Long name created for tensorboard and to save the model in order to pull again if best\n",
    "                    log_name = 'mc_hs_' + str(hidden_size) + \"_do_\" + str(dropout) + \"_nl_\"+ str(num_layer) + \"_lr_\" + str(lr) + \"_opt_\" + opt_text + \"_\" + datetime.now().strftime(\"%m-%d-%H%M\")\n",
    "                    \n",
    "                    # Begin Training\n",
    "                    for epoch in range(epochs):\n",
    "                        print(\"epoch\", epoch)\n",
    "                        train_loss_total = 0\n",
    "                        \n",
    "                        # Add to Tensorboard\n",
    "                        train_logger = tb.SummaryWriter('./writer/' + log_name + '/train', flush_secs = 1)\n",
    "                        # For each training instance/example\n",
    "                        for i, (x, y) in enumerate(train_inout_seq):\n",
    "                            # Set model to training mode to adjust weights\n",
    "                            model.train()\n",
    "                            # Zero out the gradients\n",
    "                            opt.zero_grad()\n",
    "                            \n",
    "                            # Get the input data in formatted\n",
    "                            x = x.view(len(x), 1, -1)\n",
    "                            # Send input data into model and get outputs\n",
    "                            out = model(x.float())\n",
    "                            # The highest probilility class is the selected class \n",
    "                            y_pred = torch.argmax(out, dim=1)\n",
    "                            # Calculate the loss by comparing to original true class\n",
    "                            loss = loss_func(out,y.type(torch.LongTensor))\n",
    "                            # Back proporgate and update weights\n",
    "                            loss.backward()\n",
    "                            # Move down gradient using learning rate\n",
    "                            opt.step()\n",
    "                            # Add loss to overall training loss\n",
    "                            train_loss_total += loss.item()\n",
    "                        \n",
    "                        # Set the model in evaluation model to not adjust weights\n",
    "                        model.eval()\n",
    "                        # Add validation to tensorboard\n",
    "                        val_logger = tb.SummaryWriter('./writer/' + log_name + '/val', flush_secs = 1)\n",
    "                        val_loss_total = 0\n",
    "                        # For each validation sample\n",
    "                        for i, (x, y) in enumerate(val_inout_seq):\n",
    "                            # Get the output\n",
    "                            out = model(x.view(len(x), 1, -1).float())\n",
    "                            # Find the loss compared to true value\n",
    "                            loss = loss_func(out,y.type(torch.LongTensor))\n",
    "                            # Add loss to overall validation loss\n",
    "                            val_loss_total += loss.item()\n",
    "\n",
    "                        # Get the average loss values\n",
    "                        avg_train_loss = train_loss_total/len(train_inout_seq)\n",
    "                        avg_val_loss = val_loss_total/len(val_inout_seq)\n",
    "                        \n",
    "                        print(avg_train_loss, avg_val_loss)\n",
    "                        # Add to tensorboard graphs for each epoch\n",
    "                        train_logger.add_scalar(\"Loss_train\", avg_train_loss, epoch)\n",
    "                        val_logger.add_scalar(\"Loss_val\", avg_val_loss, epoch)\n",
    "                    \n",
    "                    # Save the trained model\n",
    "                    torch.save(model, \"models/%s.pt\" % log_name)  \n"
   ]
  },
  {
   "cell_type": "markdown",
   "metadata": {},
   "source": [
    "## Model Selection\n",
    "\n",
    "In order to find the best model, we would need to look at all of the model trained and see their loss values. The lower the loss value, the better the model is on the dataset. However, both the training and validation loss for the same model must decrease together. If the training loss is decreasing while the validation loss in increasing, then we know that the model is over-fitting. To catch this over-fitting, we split the data into a training and validation set.\n",
    "\n",
    "We can use tensorboard to see how well the model has trained and visualize loss value. In the image below, we see tensorboard plot a certain model. This model has a hidden size of 129, dropout of 0.2, number of layers of 1, learning rate of 0.01, and an optimizer of adam. We see that both the training loss and validation loss is decreasing during the same set of of time steps. We also see that sharp increases in loss are sene in both too. This is not an over-fitted model, however, this may not be the best model to use. To find the best model, we would need to find the lowest train/val loss for a single model while the model is not over-fitting. \n",
    "\n",
    "![tensorboard](report_images/tensorboard.png \"Example of Tensorboard\")"
   ]
  },
  {
   "cell_type": "code",
   "execution_count": null,
   "metadata": {},
   "outputs": [],
   "source": [
    "# model = torch.load(\"MODEL_FILE_NAME.pt\")"
   ]
  },
  {
   "cell_type": "markdown",
   "metadata": {},
   "source": [
    "## Results\n",
    "\n",
    "Using one of the better trained model, we can visualize the classification results. We can compare the model's predicted values to the true values.\n",
    "\n",
    "NOTE: Graph shown below is from previous training runs with short amounts of dates (01/2021 - 01/2022) and a shorter window size (7 days). The reason why I am showing this graph is that training and hyperparameter tuning is very slow with over 10 years of data. The conclusion of my report follows these results. More training and time is needed."
   ]
  },
  {
   "cell_type": "code",
   "execution_count": 51,
   "metadata": {},
   "outputs": [],
   "source": [
    "def plot_preds(df_set, preds, window_size = WINDOW_SIZE, show_true=False):\n",
    "    '''\n",
    "    Combine the last X days features with the associated target value \n",
    "        Parameters:\n",
    "                df_set (DataFrame): Asset information \n",
    "                preds (list): prediction list\n",
    "                window_size (int): number of previous X in each sample\n",
    "                show_true (bool): Flag to plot true signals as well\n",
    "\n",
    "    '''\n",
    "\n",
    "    df = df_set.copy()\n",
    "    # Get true Buy and Sell price points\n",
    "    df[\"Buy\"] = [df.iloc[i][\"Close\"] if df.iloc[i][\"Target\"] == 1.0 else np.nan for i in range(len(df[\"Target\"]))]\n",
    "    df[\"Sell\"] = [df.iloc[i][\"Close\"] if df.iloc[i][\"Target\"] == 0.0 else np.nan for i in range(len(df[\"Target\"]))]\n",
    "\n",
    "    # Get prediction price points\n",
    "    df[\"Pred Buy\"] = [np.nan] * window_size + [df.iloc[i+window_size][\"Close\"] if preds[i] == 1 else np.nan for i in range(len(preds))]\n",
    "    df[\"Pred Sell\"] = [np.nan] * window_size + [df.iloc[i+window_size][\"Close\"] if preds[i] == 0 else np.nan for i in range(len(preds))]\n",
    "\n",
    "    # Create a plot of close prices\n",
    "    fig = plt.figure(figsize=(8, 6))\n",
    "    plt.plot(df[\"Close\"], color = \"blue\", alpha = .5)\n",
    "    \n",
    "    # Plot the true values on the close price line\n",
    "    if show_true:\n",
    "        # Green up arrow\n",
    "        if(not df[\"Buy\"].isnull().all()):\n",
    "            plt.scatter(df.index, df[\"Buy\"], color = 'green', marker=\"^\", alpha=1)\n",
    "        # Red down arrow\n",
    "        if(not df[\"Sell\"].isnull().all()):\n",
    "            plt.scatter(df.index, df[\"Sell\"], color = 'red', marker=\"v\", alpha=1)\n",
    "    # Plot prediction values on the close price line\n",
    "    if(not df[\"Pred Buy\"].isnull().all()):\n",
    "        # Purple up arrow\n",
    "        plt.scatter(df.index, df[\"Pred Buy\"], color = 'purple', marker=\"^\", alpha=1)\n",
    "    if(not df[\"Pred Sell\"].isnull().all()):\n",
    "        # Orange down arrow\n",
    "        plt.scatter(df.index, df[\"Pred Sell\"], color = 'orange', marker=\"v\", alpha=1)\n",
    "    \n",
    "\n",
    "    plt.show() \n",
    "   \n",
    "    plt.close(fig)"
   ]
  },
  {
   "cell_type": "markdown",
   "metadata": {},
   "source": [
    "Here is the plot of the training set predictions."
   ]
  },
  {
   "cell_type": "code",
   "execution_count": null,
   "metadata": {},
   "outputs": [],
   "source": [
    "\n",
    "model.eval()\n",
    "\n",
    "preds = []\n",
    "\n",
    "for i, (x, y) in enumerate(train_inout_seq):\n",
    "    preds.append(torch.argmax(model(x.view(len(x), 1, -1).float())).item())\n",
    "\n",
    "print(set(preds))\n",
    "\n",
    "plot_preds(train_df,preds)"
   ]
  },
  {
   "cell_type": "markdown",
   "metadata": {},
   "source": [
    "![mc_train](report_images/mc_train.png \"Multiclass Train Results\")"
   ]
  },
  {
   "cell_type": "markdown",
   "metadata": {},
   "source": [
    "Here is the plot of the validation set predictions."
   ]
  },
  {
   "cell_type": "code",
   "execution_count": null,
   "metadata": {},
   "outputs": [],
   "source": [
    "model.eval()\n",
    "\n",
    "preds = []\n",
    "\n",
    "for i, (x, y) in enumerate(val_inout_seq):\n",
    "    preds.append(torch.argmax(model(x.view(len(x), 1, -1).float())).item())\n",
    "\n",
    "\n",
    "print(set(preds))\n",
    "plot_preds(val_df,preds)\n",
    "    "
   ]
  },
  {
   "cell_type": "markdown",
   "metadata": {},
   "source": [
    "![mc_val](report_images/mc_val.png \"Multiclass Validation Results\")"
   ]
  },
  {
   "cell_type": "markdown",
   "metadata": {},
   "source": [
    "Here is a plot of the test set predictions."
   ]
  },
  {
   "cell_type": "code",
   "execution_count": null,
   "metadata": {},
   "outputs": [],
   "source": [
    "model.eval()\n",
    "\n",
    "preds = []\n",
    "\n",
    "for i, (x, y) in enumerate(test_inout_seq):\n",
    "    preds.append(torch.argmax(model(x.view(len(x), 1, -1).float())).item())\n",
    "\n",
    "plot_preds(test_df,preds, show_true=True)"
   ]
  },
  {
   "cell_type": "markdown",
   "metadata": {},
   "source": [
    "![mc_test](report_images/mc_test.png \"Multiclass Test Results\")"
   ]
  },
  {
   "cell_type": "markdown",
   "metadata": {},
   "source": [
    "## Model Discussion\n",
    "\n",
    "We see that the training set did really well with predicting the data compared to the validation and test set. This is expected as the model overfit. The model did very poorly on the validation and test set as it had issues predicting the correct buy and sell points."
   ]
  },
  {
   "cell_type": "markdown",
   "metadata": {},
   "source": [
    "## Model Conclusion\n",
    "\n",
    "After many iterations of training and testing, we found that this model is not optimal for this task. It is difficult to classify minority classes while not overfitting to the training model. We also saw that this could be because of the loss function. Cross entropy loss does not take into account time steps; so this means that if the model prediction was off by one day or 100 days, the loss function would compute the same value. We tried to created a custom loss function in PyTorch, but was not possible to throw in the index of the training sample and compare that to the predicted value's index as well. If there was a way to allow the number of days to be included in a classification loss function, then this task would be much easier to train and predict.\n",
    "\n",
    "My next thought was how to remove the majority class (hold/do nothing). The way we could remove these is only predict 2 values that will always exist between every time step: up/down."
   ]
  },
  {
   "cell_type": "markdown",
   "metadata": {},
   "source": [
    "## Approach #2: Binary Classification\n",
    "\n",
    "Our goal was to make the model have more classification action classes to pick from. Every day in the stock markets, prices can go up or down. Using the next day's closing price, we can label the true class value to be either an increase in price (up) or a decrease in price (down). Our trading strategy would be to buy at every predicted increase in price and sell at every predicted decrease in price."
   ]
  },
  {
   "cell_type": "code",
   "execution_count": 68,
   "metadata": {},
   "outputs": [],
   "source": [
    "def get_labels(data):\n",
    "    '''\n",
    "    Calculate all true labels/targets of the dataset\n",
    "\n",
    "        Parameters:\n",
    "                data (DataFrame): asset data\n",
    "\n",
    "        Returns:\n",
    "                (DateFrame): Asset data with new infomation\n",
    "    '''\n",
    "    counter_row = 0 #counterRow\n",
    "    num_periods = len(data) #numberOfDaysInFile\n",
    "    labels = []\n",
    "\n",
    "    print(data.shape)\n",
    "\n",
    "    while(counter_row < num_periods-1):\n",
    "        # Increase in price\n",
    "        if (data.iloc[counter_row][\"Close\"] < data.iloc[counter_row+1][\"Close\"]):\n",
    "            labels.append(1) #it goes up\n",
    "        # Decrease in price\n",
    "        else:\n",
    "            labels.append(0) #it goes down\n",
    "        \n",
    "        counter_row+=1\n",
    "\n",
    "    data.drop(data.tail(1).index,inplace=True)        \n",
    "\n",
    "    data[\"Target\"] = labels\n",
    "    data[\"Target\"] =  data[\"Target\"]\n",
    "    return data"
   ]
  },
  {
   "cell_type": "code",
   "execution_count": 69,
   "metadata": {},
   "outputs": [
    {
     "name": "stdout",
     "output_type": "stream",
     "text": [
      "[*********************100%***********************]  1 of 1 completed\n",
      "[*********************100%***********************]  1 of 1 completed\n",
      "[*********************100%***********************]  1 of 1 completed\n",
      "(2516, 17)\n"
     ]
    },
    {
     "data": {
      "text/html": [
       "<div>\n",
       "<style scoped>\n",
       "    .dataframe tbody tr th:only-of-type {\n",
       "        vertical-align: middle;\n",
       "    }\n",
       "\n",
       "    .dataframe tbody tr th {\n",
       "        vertical-align: top;\n",
       "    }\n",
       "\n",
       "    .dataframe thead th {\n",
       "        text-align: right;\n",
       "    }\n",
       "</style>\n",
       "<table border=\"1\" class=\"dataframe\">\n",
       "  <thead>\n",
       "    <tr style=\"text-align: right;\">\n",
       "      <th></th>\n",
       "      <th>Close</th>\n",
       "      <th>Volume</th>\n",
       "      <th>Mid BBand</th>\n",
       "      <th>Top BBand</th>\n",
       "      <th>Bot BBand</th>\n",
       "      <th>Volatility</th>\n",
       "      <th>Mid BBand Narrow</th>\n",
       "      <th>Top BBand Narrow</th>\n",
       "      <th>Bot BBand Narrow</th>\n",
       "      <th>RSI</th>\n",
       "      <th>ShortEMA</th>\n",
       "      <th>LongEMA</th>\n",
       "      <th>ShortMA</th>\n",
       "      <th>LongMA</th>\n",
       "      <th>MACD</th>\n",
       "      <th>SPY_returns</th>\n",
       "      <th>Treasury_Yield_10_Years</th>\n",
       "      <th>Target</th>\n",
       "    </tr>\n",
       "    <tr>\n",
       "      <th>Date</th>\n",
       "      <th></th>\n",
       "      <th></th>\n",
       "      <th></th>\n",
       "      <th></th>\n",
       "      <th></th>\n",
       "      <th></th>\n",
       "      <th></th>\n",
       "      <th></th>\n",
       "      <th></th>\n",
       "      <th></th>\n",
       "      <th></th>\n",
       "      <th></th>\n",
       "      <th></th>\n",
       "      <th></th>\n",
       "      <th></th>\n",
       "      <th></th>\n",
       "      <th></th>\n",
       "      <th></th>\n",
       "    </tr>\n",
       "  </thead>\n",
       "  <tbody>\n",
       "    <tr>\n",
       "      <th>2012-01-03</th>\n",
       "      <td>14.686786</td>\n",
       "      <td>302220800</td>\n",
       "      <td>NaN</td>\n",
       "      <td>NaN</td>\n",
       "      <td>NaN</td>\n",
       "      <td>NaN</td>\n",
       "      <td>NaN</td>\n",
       "      <td>NaN</td>\n",
       "      <td>NaN</td>\n",
       "      <td>NaN</td>\n",
       "      <td>NaN</td>\n",
       "      <td>NaN</td>\n",
       "      <td>NaN</td>\n",
       "      <td>NaN</td>\n",
       "      <td>NaN</td>\n",
       "      <td>127.500000</td>\n",
       "      <td>1.960</td>\n",
       "      <td>1</td>\n",
       "    </tr>\n",
       "    <tr>\n",
       "      <th>2012-01-04</th>\n",
       "      <td>14.765714</td>\n",
       "      <td>260022000</td>\n",
       "      <td>NaN</td>\n",
       "      <td>NaN</td>\n",
       "      <td>NaN</td>\n",
       "      <td>NaN</td>\n",
       "      <td>NaN</td>\n",
       "      <td>NaN</td>\n",
       "      <td>NaN</td>\n",
       "      <td>NaN</td>\n",
       "      <td>NaN</td>\n",
       "      <td>NaN</td>\n",
       "      <td>NaN</td>\n",
       "      <td>NaN</td>\n",
       "      <td>NaN</td>\n",
       "      <td>127.699997</td>\n",
       "      <td>1.995</td>\n",
       "      <td>1</td>\n",
       "    </tr>\n",
       "    <tr>\n",
       "      <th>2012-01-05</th>\n",
       "      <td>14.929643</td>\n",
       "      <td>271269600</td>\n",
       "      <td>NaN</td>\n",
       "      <td>NaN</td>\n",
       "      <td>NaN</td>\n",
       "      <td>NaN</td>\n",
       "      <td>NaN</td>\n",
       "      <td>NaN</td>\n",
       "      <td>NaN</td>\n",
       "      <td>NaN</td>\n",
       "      <td>NaN</td>\n",
       "      <td>NaN</td>\n",
       "      <td>NaN</td>\n",
       "      <td>NaN</td>\n",
       "      <td>NaN</td>\n",
       "      <td>128.039993</td>\n",
       "      <td>1.993</td>\n",
       "      <td>1</td>\n",
       "    </tr>\n",
       "    <tr>\n",
       "      <th>2012-01-06</th>\n",
       "      <td>15.085714</td>\n",
       "      <td>318292800</td>\n",
       "      <td>NaN</td>\n",
       "      <td>NaN</td>\n",
       "      <td>NaN</td>\n",
       "      <td>NaN</td>\n",
       "      <td>NaN</td>\n",
       "      <td>NaN</td>\n",
       "      <td>NaN</td>\n",
       "      <td>NaN</td>\n",
       "      <td>NaN</td>\n",
       "      <td>NaN</td>\n",
       "      <td>NaN</td>\n",
       "      <td>NaN</td>\n",
       "      <td>NaN</td>\n",
       "      <td>127.709999</td>\n",
       "      <td>1.961</td>\n",
       "      <td>0</td>\n",
       "    </tr>\n",
       "    <tr>\n",
       "      <th>2012-01-09</th>\n",
       "      <td>15.061786</td>\n",
       "      <td>394024400</td>\n",
       "      <td>NaN</td>\n",
       "      <td>NaN</td>\n",
       "      <td>NaN</td>\n",
       "      <td>NaN</td>\n",
       "      <td>NaN</td>\n",
       "      <td>NaN</td>\n",
       "      <td>NaN</td>\n",
       "      <td>NaN</td>\n",
       "      <td>NaN</td>\n",
       "      <td>NaN</td>\n",
       "      <td>NaN</td>\n",
       "      <td>NaN</td>\n",
       "      <td>NaN</td>\n",
       "      <td>128.020004</td>\n",
       "      <td>1.960</td>\n",
       "      <td>1</td>\n",
       "    </tr>\n",
       "  </tbody>\n",
       "</table>\n",
       "</div>"
      ],
      "text/plain": [
       "                Close     Volume  Mid BBand  Top BBand  Bot BBand  Volatility  \\\n",
       "Date                                                                            \n",
       "2012-01-03  14.686786  302220800        NaN        NaN        NaN         NaN   \n",
       "2012-01-04  14.765714  260022000        NaN        NaN        NaN         NaN   \n",
       "2012-01-05  14.929643  271269600        NaN        NaN        NaN         NaN   \n",
       "2012-01-06  15.085714  318292800        NaN        NaN        NaN         NaN   \n",
       "2012-01-09  15.061786  394024400        NaN        NaN        NaN         NaN   \n",
       "\n",
       "            Mid BBand Narrow  Top BBand Narrow  Bot BBand Narrow  RSI  \\\n",
       "Date                                                                    \n",
       "2012-01-03               NaN               NaN               NaN  NaN   \n",
       "2012-01-04               NaN               NaN               NaN  NaN   \n",
       "2012-01-05               NaN               NaN               NaN  NaN   \n",
       "2012-01-06               NaN               NaN               NaN  NaN   \n",
       "2012-01-09               NaN               NaN               NaN  NaN   \n",
       "\n",
       "            ShortEMA  LongEMA  ShortMA  LongMA  MACD  SPY_returns  \\\n",
       "Date                                                                \n",
       "2012-01-03       NaN      NaN      NaN     NaN   NaN   127.500000   \n",
       "2012-01-04       NaN      NaN      NaN     NaN   NaN   127.699997   \n",
       "2012-01-05       NaN      NaN      NaN     NaN   NaN   128.039993   \n",
       "2012-01-06       NaN      NaN      NaN     NaN   NaN   127.709999   \n",
       "2012-01-09       NaN      NaN      NaN     NaN   NaN   128.020004   \n",
       "\n",
       "            Treasury_Yield_10_Years  Target  \n",
       "Date                                         \n",
       "2012-01-03                    1.960       1  \n",
       "2012-01-04                    1.995       1  \n",
       "2012-01-05                    1.993       1  \n",
       "2012-01-06                    1.961       0  \n",
       "2012-01-09                    1.960       1  "
      ]
     },
     "execution_count": 69,
     "metadata": {},
     "output_type": "execute_result"
    }
   ],
   "source": [
    "symbol = \"AAPL\"\n",
    "\n",
    "data = get_data(symbol)\n",
    "data = get_TA(data)\n",
    "\n",
    "# current = get_current_headlines(symbol)\n",
    "# past = get_past_headlines(symbol)\n",
    "\n",
    "# news = pd.concat([current, past])\n",
    "\n",
    "# data = get_sentiment(data, news)\n",
    "\n",
    "data = get_labels(data)\n",
    "data.head()"
   ]
  },
  {
   "cell_type": "markdown",
   "metadata": {},
   "source": [
    "## Visualize True Labels\n",
    "\n",
    "We see that every upward trend in price has a lot of green upward arrows and every downward trend in price has a lot of red downward arrows."
   ]
  },
  {
   "cell_type": "code",
   "execution_count": 70,
   "metadata": {},
   "outputs": [],
   "source": [
    "def plot_labels(data, symbol):\n",
    "\n",
    "    df = data.copy()\n",
    "    # Buy if there is an increase\n",
    "    df[\"Buy\"] = [df.iloc[i][\"Close\"] if df.iloc[i][\"Target\"] == 1.0 else np.nan for i in range(len(df[\"Target\"]))]\n",
    "    # Sell if there is a decrease\n",
    "    df[\"Sell\"] = [df.iloc[i][\"Close\"] if df.iloc[i][\"Target\"] == 0.0 else np.nan for i in range(len(df[\"Target\"]))]\n",
    "\n",
    "    fig = plt.figure(figsize=(8, 6))\n",
    "    plt.plot(df[\"Close\"], color = \"blue\", alpha = .5)\n",
    "    \n",
    "    if(not df[\"Buy\"].isnull().all()):\n",
    "        plt.scatter(df.index, df[\"Buy\"], color = 'green', marker=\"^\", alpha=1)\n",
    "    if(not df[\"Sell\"].isnull().all()):\n",
    "        plt.scatter(df.index, df[\"Sell\"], color = 'red', marker=\"v\", alpha=1)\n",
    "\n",
    "    plt.show() \n",
    "    plt.close(fig)"
   ]
  },
  {
   "cell_type": "code",
   "execution_count": 71,
   "metadata": {},
   "outputs": [],
   "source": [
    "data = data.dropna()"
   ]
  },
  {
   "cell_type": "markdown",
   "metadata": {},
   "source": [
    "## Train-Val-Test Split"
   ]
  },
  {
   "cell_type": "code",
   "execution_count": 72,
   "metadata": {},
   "outputs": [],
   "source": [
    "train_size = int(len(data)*.6) #60% training\n",
    "val_size = int(len(data) *.1) #10% validation\n",
    "test_size = len(data)-train_size-val_size # rest ~30% test"
   ]
  },
  {
   "cell_type": "code",
   "execution_count": 73,
   "metadata": {},
   "outputs": [
    {
     "data": {
      "image/png": "[encoded data removed]",
      "text/plain": [
       "<Figure size 432x288 with 1 Axes>"
      ]
     },
     "metadata": {
      "needs_background": "light"
     },
     "output_type": "display_data"
    }
   ],
   "source": [
    "plt.plot(data[\"Close\"], color = \"blue\", alpha = .5)\n",
    "xcoords = [data.index[train_size], data.index[train_size+val_size]]\n",
    "for xc in xcoords:\n",
    "    plt.axvline(x=xc)"
   ]
  },
  {
   "cell_type": "code",
   "execution_count": 74,
   "metadata": {},
   "outputs": [],
   "source": [
    "train_df = data[:train_size]\n",
    "val_df = data[train_size: train_size+val_size]\n",
    "test_df = data[train_size+val_size:]"
   ]
  },
  {
   "cell_type": "markdown",
   "metadata": {},
   "source": [
    "# Normalization"
   ]
  },
  {
   "cell_type": "code",
   "execution_count": 75,
   "metadata": {},
   "outputs": [],
   "source": [
    "norm_cols = list(train_df.columns)[:-1]"
   ]
  },
  {
   "cell_type": "code",
   "execution_count": 76,
   "metadata": {},
   "outputs": [
    {
     "name": "stderr",
     "output_type": "stream",
     "text": [
      "C:\\Users\\rudra\\anaconda3\\lib\\site-packages\\pandas\\core\\frame.py:3678: SettingWithCopyWarning: \n",
      "A value is trying to be set on a copy of a slice from a DataFrame.\n",
      "Try using .loc[row_indexer,col_indexer] = value instead\n",
      "\n",
      "See the caveats in the documentation: https://pandas.pydata.org/pandas-docs/stable/user_guide/indexing.html#returning-a-view-versus-a-copy\n",
      "  self[col] = igetitem(value, i)\n",
      "C:\\Users\\rudra\\anaconda3\\lib\\site-packages\\pandas\\core\\frame.py:3678: SettingWithCopyWarning: \n",
      "A value is trying to be set on a copy of a slice from a DataFrame.\n",
      "Try using .loc[row_indexer,col_indexer] = value instead\n",
      "\n",
      "See the caveats in the documentation: https://pandas.pydata.org/pandas-docs/stable/user_guide/indexing.html#returning-a-view-versus-a-copy\n",
      "  self[col] = igetitem(value, i)\n",
      "C:\\Users\\rudra\\anaconda3\\lib\\site-packages\\pandas\\core\\frame.py:3678: SettingWithCopyWarning: \n",
      "A value is trying to be set on a copy of a slice from a DataFrame.\n",
      "Try using .loc[row_indexer,col_indexer] = value instead\n",
      "\n",
      "See the caveats in the documentation: https://pandas.pydata.org/pandas-docs/stable/user_guide/indexing.html#returning-a-view-versus-a-copy\n",
      "  self[col] = igetitem(value, i)\n"
     ]
    }
   ],
   "source": [
    "scaler = MinMaxScaler()\n",
    "train_df[norm_cols] = scaler.fit_transform(train_df[norm_cols])\n",
    "val_df[norm_cols] = scaler.transform(val_df[norm_cols])\n",
    "test_df[norm_cols] = scaler.transform(test_df[norm_cols])"
   ]
  },
  {
   "cell_type": "code",
   "execution_count": 77,
   "metadata": {},
   "outputs": [],
   "source": [
    "train_x, train_y = train_df.iloc[:,:-1],train_df.iloc[:,-1]\n",
    "val_x, val_y = val_df.iloc[:,:-1],val_df.iloc[:,-1]\n",
    "test_x, test_y = test_df.iloc[:,:-1],test_df.iloc[:,-1]"
   ]
  },
  {
   "cell_type": "markdown",
   "metadata": {},
   "source": [
    "## Construct Model Inputs"
   ]
  },
  {
   "cell_type": "code",
   "execution_count": 78,
   "metadata": {},
   "outputs": [],
   "source": [
    "train_seq = create_sequences(train_x)\n",
    "train_inout_seq = create_model_input(train_seq, train_y)\n",
    "\n",
    "val_seq = create_sequences(val_x)\n",
    "val_inout_seq = create_model_input(val_seq, val_y)\n",
    "\n",
    "test_seq = create_sequences(test_x)\n",
    "test_inout_seq = create_model_input(test_seq, test_y)"
   ]
  },
  {
   "cell_type": "markdown",
   "metadata": {},
   "source": [
    "## The Model (LSTM)\n",
    "\n",
    "For binary classification, the input layer would have the number of features, which is this case is 17. The output layer would be one because we are predicting the probability of 2 class values representing up or down.\n"
   ]
  },
  {
   "cell_type": "code",
   "execution_count": 79,
   "metadata": {},
   "outputs": [],
   "source": [
    "NUM_FEATURES = 17\n",
    "BATCH_SIZE = 1\n",
    "class NetworkClassifier(torch.nn.Module):\n",
    "    def __init__(self, input_size = NUM_FEATURES, hidden_size = 128, output_size = 2, batch_size = BATCH_SIZE, dropout = 0.2, num_layers=2):\n",
    "        super().__init__()\n",
    "        self.input_size = input_size #num of features\n",
    "        self.hidden_size = hidden_size\n",
    "        self.output_size = output_size    \n",
    "        self.batch_size = batch_size\n",
    "        self.num_layers = num_layers  \n",
    "\n",
    "        self.lstm = torch.nn.LSTM(self.input_size, self.hidden_size, self.num_layers, dropout=dropout)\n",
    "        self.linear = torch.nn.Linear(self.hidden_size, self.output_size)\n",
    "        \n",
    "\n",
    "    def forward(self, input_seq):\n",
    "        hidden = (torch.zeros(self.num_layers, self.batch_size, self.hidden_size), torch.zeros(self.num_layers, self.batch_size, self.hidden_size))\n",
    "        lstm_out, hidden = self.lstm(input_seq, hidden) \n",
    "        out = self.linear(hidden[0])\n",
    "        return out[-1]"
   ]
  },
  {
   "cell_type": "markdown",
   "metadata": {},
   "source": [
    "## Training Loop"
   ]
  },
  {
   "cell_type": "code",
   "execution_count": null,
   "metadata": {},
   "outputs": [],
   "source": [
    "epochs = 40\n",
    "\n",
    "hidden_sizes = [128, 256]\n",
    "n_dropouts = [0, .2, .4, .6]\n",
    "num_layers = [1,2,3,4]\n",
    "\n",
    "lrs = [.01,.001,.0001]\n",
    "opt_texts = [\"adam\", \"sgd\"]\n",
    "\n",
    "##  Hyper parameter tuning\n",
    "# For each parameter combination (grid search)\n",
    "for hidden_size in hidden_sizes:\n",
    "    for dropout in n_dropouts:   \n",
    "        for num_layer in num_layers:\n",
    "            # Create the model with the specific parameters\n",
    "            model = NetworkClassifier(hidden_size=hidden_size, dropout=dropout, num_layers=num_layer)\n",
    "            \n",
    "            for lr in lrs:\n",
    "                for opt_text in opt_texts:\n",
    "                    # Pick optimizer\n",
    "                    if opt_text == \"adam\":\n",
    "                        opt = torch.optim.Adam(model.parameters(),lr=lr)\n",
    "                    else:\n",
    "                        opt = torch.optim.SGD(model.parameters(),lr=lr)\n",
    "\n",
    "                        loss_func = torch.nn.CrossEntropyLoss()\n",
    "                        \n",
    "                        # Long name created for tensorboard and to save the model in order to pull again if best\n",
    "                        log_name = 'bc_hs_' + str(hidden_size) + \"_do_\" + str(dropout) + \"_nl_\"+ str(num_layer) + \"_lr_\" + str(lr) + \"_opt_\" + opt_text + \"_\" + datetime.now().strftime(\"%m-%d-%H%M\")\n",
    "                        \n",
    "                        # Begin Training\n",
    "                        for epoch in range(epochs):\n",
    "                            print(\"epoch\", epoch)\n",
    "                            train_loss_total = 0\n",
    "                            \n",
    "                            # Add to Tensorboard\n",
    "                            train_logger = tb.SummaryWriter('./writer/' + log_name + '/train', flush_secs = 1)\n",
    "                            # For each training instance/example\n",
    "                            for i, (x, y) in enumerate(train_inout_seq):\n",
    "                                # Set model to training mode to adjust weights\n",
    "                                model.train()\n",
    "                                # Zero out the gradients\n",
    "                                opt.zero_grad()\n",
    "                                \n",
    "                                # Get the input data in formatted\n",
    "                                x = x.view(len(x), 1, -1)\n",
    "                                # Send input data into model and get outputs\n",
    "                                out = model(x.float())\n",
    "                                # The highest probilility class is the selected class \n",
    "                                y_pred = torch.argmax(out, dim=1)\n",
    "                                # Calculate the loss by comparing to original true class\n",
    "                                loss = loss_func(out,y.type(torch.LongTensor))\n",
    "                                # Back proporgate and update weights\n",
    "                                loss.backward()\n",
    "                                # Move down gradient using learning rate\n",
    "                                opt.step()\n",
    "                                # Add loss to overall training loss\n",
    "                                train_loss_total += loss.item()\n",
    "                            \n",
    "                            # Set the model in evaluation model to not adjust weights\n",
    "                            model.eval()\n",
    "                            # Add validation to tensorboard\n",
    "                            val_logger = tb.SummaryWriter('./writer/' + log_name + '/val', flush_secs = 1)\n",
    "                            val_loss_total = 0\n",
    "                            # For each validation sample\n",
    "                            for i, (x, y) in enumerate(val_inout_seq):\n",
    "                                # Get the output\n",
    "                                out = model(x.view(len(x), 1, -1).float())\n",
    "                                # Find the loss compared to true value\n",
    "                                loss = loss_func(out,y.type(torch.LongTensor))\n",
    "                                # Add loss to overall validation loss\n",
    "                                val_loss_total += loss.item()\n",
    "\n",
    "                            # Get the average loss values\n",
    "                            avg_train_loss = train_loss_total/len(train_inout_seq)\n",
    "                            avg_val_loss = val_loss_total/len(val_inout_seq)\n",
    "                            print(avg_train_loss, avg_val_loss)\n",
    "                            # Add to tensorboard graphs for each epoch\n",
    "                            train_logger.add_scalar(\"Loss_train\", avg_train_loss, epoch)\n",
    "                            val_logger.add_scalar(\"Loss_val\", avg_val_loss, epoch)\n",
    "                        \n",
    "                        # Save the trained model\n",
    "                        torch.save(model, \"models/%s.pt\" % log_name)  \n"
   ]
  },
  {
   "cell_type": "code",
   "execution_count": null,
   "metadata": {},
   "outputs": [],
   "source": [
    "# model = torch.load(\"MODEL_FILE_NAME.pt\")"
   ]
  },
  {
   "cell_type": "markdown",
   "metadata": {},
   "source": [
    "## Results\n",
    "\n",
    "NOTE: displayed runs are also from previous test runs with smaller amounts of training data. Please refer to Results markdown cell for multi-classification for more details."
   ]
  },
  {
   "cell_type": "code",
   "execution_count": null,
   "metadata": {},
   "outputs": [],
   "source": [
    "model.eval()\n",
    "\n",
    "preds = []\n",
    "\n",
    "for i, (x, y) in enumerate(train_inout_seq):\n",
    "    preds.append(torch.argmax(model(x.view(len(x), 1, -1).float())).item())\n",
    "\n",
    "print(set(preds))\n",
    "\n",
    "plot_preds(train_df,preds,show_true=False)"
   ]
  },
  {
   "cell_type": "markdown",
   "metadata": {},
   "source": [
    "![bc_test](report_images/bc_test.png \"Binary Class Train Results\")"
   ]
  },
  {
   "cell_type": "code",
   "execution_count": null,
   "metadata": {},
   "outputs": [],
   "source": [
    "model.eval()\n",
    "\n",
    "preds = []\n",
    "\n",
    "for i, (x, y) in enumerate(val_inout_seq):\n",
    "    preds.append(torch.argmax(model(x.view(len(x), 1, -1).float())).item())\n",
    "\n",
    "\n",
    "print(set(preds))\n",
    "plot_preds(val_df,preds)\n",
    "    "
   ]
  },
  {
   "cell_type": "markdown",
   "metadata": {},
   "source": [
    "![bc_val](report_images/bc_val.png \"Binary Class Val Results\")"
   ]
  },
  {
   "cell_type": "code",
   "execution_count": null,
   "metadata": {},
   "outputs": [],
   "source": [
    "model.eval()\n",
    "\n",
    "preds = []\n",
    "\n",
    "for i, (x, y) in enumerate(test_inout_seq):\n",
    "    preds.append(torch.argmax(model(x.view(len(x), 1, -1).float())).item())\n",
    "\n",
    "plot_preds(test_df,preds, show_true=True)"
   ]
  },
  {
   "cell_type": "markdown",
   "metadata": {},
   "source": [
    "![bc_test](report_images/bc_test.png \"Binary Class Test Results\")"
   ]
  },
  {
   "cell_type": "markdown",
   "metadata": {},
   "source": [
    "## Model Discussion\n",
    "\n",
    "We see that the training set did really well with predicting the data compared to the validation and test set. This is expected as the model overfit. The model did very poorly on the validation and test set as it had issues predicting the correct buy and sell points just like it did in the Multi class classification model."
   ]
  },
  {
   "cell_type": "markdown",
   "metadata": {},
   "source": [
    "## Model Conclusion\n",
    "\n",
    "This model was better but still not optimal than the multiclass classification model. We see that it has moments that it predicts the same class over and over again in a series of steps. I feel that this could be solved if given more time and resources for training. \n",
    "\n",
    "After working on this model, my next step was to instead of predicting direct trading decisions, we can use a machine learning model to give us prediction that we can use as a way to compute trading decisions. The binary classification model can suffer random shocks to the market that allow the price to randomly increase between days. This is not as helpful to the model as the model needs to see a trend of numbers and then needs to predict the next action/number. This leads us to regression."
   ]
  },
  {
   "cell_type": "markdown",
   "metadata": {},
   "source": [
    "## Approach #3: Regression\n",
    "\n",
    "Our goal was to move away from making the model tell what the trader should do, but instead, allow the trader to use the information predicted by the model to make it's own trading decisions. In order to do this, we can have the model predict next day's closing price given the last X days of data. If there is a significant increase in predicted price, then we can buy. If there is a significant decrease in predicted price, then we sell.\n",
    "\n",
    "We can get the target values by looking at the next day's close price, assuming lag of 1."
   ]
  },
  {
   "cell_type": "markdown",
   "metadata": {},
   "source": [
    "## Get Targets"
   ]
  },
  {
   "cell_type": "code",
   "execution_count": 89,
   "metadata": {},
   "outputs": [],
   "source": [
    "def get_labels(data, lag = 1):\n",
    "    '''\n",
    "    Calculate all true labels/targets of the dataset\n",
    "\n",
    "        Parameters:\n",
    "                data (DataFrame): asset data\n",
    "                window_size (int): number of days to find mins and maxes\n",
    "\n",
    "        Returns:\n",
    "                (DateFrame): Asset data with new infomation\n",
    "    '''\n",
    "    counter_row = 0 #counterRow\n",
    "    num_periods = len(data) #numberOfDaysInFile\n",
    "    labels = []\n",
    "\n",
    "    print(data.shape)\n",
    "\n",
    "    while(counter_row < num_periods-lag):\n",
    "        labels.append(data.iloc[counter_row+lag][\"Close\"])\n",
    "        counter_row+=1\n",
    "\n",
    "    data.drop(data.tail(lag).index,inplace=True)        \n",
    "\n",
    "    data[\"Target\"] = labels\n",
    "    data[\"Target\"] =  data[\"Target\"]\n",
    "    return data"
   ]
  },
  {
   "cell_type": "code",
   "execution_count": 90,
   "metadata": {},
   "outputs": [
    {
     "name": "stdout",
     "output_type": "stream",
     "text": [
      "[*********************100%***********************]  1 of 1 completed\n",
      "[*********************100%***********************]  1 of 1 completed\n",
      "[*********************100%***********************]  1 of 1 completed\n",
      "(2516, 17)\n"
     ]
    },
    {
     "data": {
      "text/html": [
       "<div>\n",
       "<style scoped>\n",
       "    .dataframe tbody tr th:only-of-type {\n",
       "        vertical-align: middle;\n",
       "    }\n",
       "\n",
       "    .dataframe tbody tr th {\n",
       "        vertical-align: top;\n",
       "    }\n",
       "\n",
       "    .dataframe thead th {\n",
       "        text-align: right;\n",
       "    }\n",
       "</style>\n",
       "<table border=\"1\" class=\"dataframe\">\n",
       "  <thead>\n",
       "    <tr style=\"text-align: right;\">\n",
       "      <th></th>\n",
       "      <th>Close</th>\n",
       "      <th>Volume</th>\n",
       "      <th>Mid BBand</th>\n",
       "      <th>Top BBand</th>\n",
       "      <th>Bot BBand</th>\n",
       "      <th>Volatility</th>\n",
       "      <th>Mid BBand Narrow</th>\n",
       "      <th>Top BBand Narrow</th>\n",
       "      <th>Bot BBand Narrow</th>\n",
       "      <th>RSI</th>\n",
       "      <th>ShortEMA</th>\n",
       "      <th>LongEMA</th>\n",
       "      <th>ShortMA</th>\n",
       "      <th>LongMA</th>\n",
       "      <th>MACD</th>\n",
       "      <th>SPY_returns</th>\n",
       "      <th>Treasury_Yield_10_Years</th>\n",
       "      <th>Target</th>\n",
       "    </tr>\n",
       "    <tr>\n",
       "      <th>Date</th>\n",
       "      <th></th>\n",
       "      <th></th>\n",
       "      <th></th>\n",
       "      <th></th>\n",
       "      <th></th>\n",
       "      <th></th>\n",
       "      <th></th>\n",
       "      <th></th>\n",
       "      <th></th>\n",
       "      <th></th>\n",
       "      <th></th>\n",
       "      <th></th>\n",
       "      <th></th>\n",
       "      <th></th>\n",
       "      <th></th>\n",
       "      <th></th>\n",
       "      <th></th>\n",
       "      <th></th>\n",
       "    </tr>\n",
       "  </thead>\n",
       "  <tbody>\n",
       "    <tr>\n",
       "      <th>2012-01-03</th>\n",
       "      <td>14.686786</td>\n",
       "      <td>302220800</td>\n",
       "      <td>NaN</td>\n",
       "      <td>NaN</td>\n",
       "      <td>NaN</td>\n",
       "      <td>NaN</td>\n",
       "      <td>NaN</td>\n",
       "      <td>NaN</td>\n",
       "      <td>NaN</td>\n",
       "      <td>NaN</td>\n",
       "      <td>NaN</td>\n",
       "      <td>NaN</td>\n",
       "      <td>NaN</td>\n",
       "      <td>NaN</td>\n",
       "      <td>NaN</td>\n",
       "      <td>127.500000</td>\n",
       "      <td>1.960</td>\n",
       "      <td>14.765714</td>\n",
       "    </tr>\n",
       "    <tr>\n",
       "      <th>2012-01-04</th>\n",
       "      <td>14.765714</td>\n",
       "      <td>260022000</td>\n",
       "      <td>NaN</td>\n",
       "      <td>NaN</td>\n",
       "      <td>NaN</td>\n",
       "      <td>NaN</td>\n",
       "      <td>NaN</td>\n",
       "      <td>NaN</td>\n",
       "      <td>NaN</td>\n",
       "      <td>NaN</td>\n",
       "      <td>NaN</td>\n",
       "      <td>NaN</td>\n",
       "      <td>NaN</td>\n",
       "      <td>NaN</td>\n",
       "      <td>NaN</td>\n",
       "      <td>127.699997</td>\n",
       "      <td>1.995</td>\n",
       "      <td>14.929643</td>\n",
       "    </tr>\n",
       "    <tr>\n",
       "      <th>2012-01-05</th>\n",
       "      <td>14.929643</td>\n",
       "      <td>271269600</td>\n",
       "      <td>NaN</td>\n",
       "      <td>NaN</td>\n",
       "      <td>NaN</td>\n",
       "      <td>NaN</td>\n",
       "      <td>NaN</td>\n",
       "      <td>NaN</td>\n",
       "      <td>NaN</td>\n",
       "      <td>NaN</td>\n",
       "      <td>NaN</td>\n",
       "      <td>NaN</td>\n",
       "      <td>NaN</td>\n",
       "      <td>NaN</td>\n",
       "      <td>NaN</td>\n",
       "      <td>128.039993</td>\n",
       "      <td>1.993</td>\n",
       "      <td>15.085714</td>\n",
       "    </tr>\n",
       "    <tr>\n",
       "      <th>2012-01-06</th>\n",
       "      <td>15.085714</td>\n",
       "      <td>318292800</td>\n",
       "      <td>NaN</td>\n",
       "      <td>NaN</td>\n",
       "      <td>NaN</td>\n",
       "      <td>NaN</td>\n",
       "      <td>NaN</td>\n",
       "      <td>NaN</td>\n",
       "      <td>NaN</td>\n",
       "      <td>NaN</td>\n",
       "      <td>NaN</td>\n",
       "      <td>NaN</td>\n",
       "      <td>NaN</td>\n",
       "      <td>NaN</td>\n",
       "      <td>NaN</td>\n",
       "      <td>127.709999</td>\n",
       "      <td>1.961</td>\n",
       "      <td>15.061786</td>\n",
       "    </tr>\n",
       "    <tr>\n",
       "      <th>2012-01-09</th>\n",
       "      <td>15.061786</td>\n",
       "      <td>394024400</td>\n",
       "      <td>NaN</td>\n",
       "      <td>NaN</td>\n",
       "      <td>NaN</td>\n",
       "      <td>NaN</td>\n",
       "      <td>NaN</td>\n",
       "      <td>NaN</td>\n",
       "      <td>NaN</td>\n",
       "      <td>NaN</td>\n",
       "      <td>NaN</td>\n",
       "      <td>NaN</td>\n",
       "      <td>NaN</td>\n",
       "      <td>NaN</td>\n",
       "      <td>NaN</td>\n",
       "      <td>128.020004</td>\n",
       "      <td>1.960</td>\n",
       "      <td>15.115714</td>\n",
       "    </tr>\n",
       "  </tbody>\n",
       "</table>\n",
       "</div>"
      ],
      "text/plain": [
       "                Close     Volume  Mid BBand  Top BBand  Bot BBand  Volatility  \\\n",
       "Date                                                                            \n",
       "2012-01-03  14.686786  302220800        NaN        NaN        NaN         NaN   \n",
       "2012-01-04  14.765714  260022000        NaN        NaN        NaN         NaN   \n",
       "2012-01-05  14.929643  271269600        NaN        NaN        NaN         NaN   \n",
       "2012-01-06  15.085714  318292800        NaN        NaN        NaN         NaN   \n",
       "2012-01-09  15.061786  394024400        NaN        NaN        NaN         NaN   \n",
       "\n",
       "            Mid BBand Narrow  Top BBand Narrow  Bot BBand Narrow  RSI  \\\n",
       "Date                                                                    \n",
       "2012-01-03               NaN               NaN               NaN  NaN   \n",
       "2012-01-04               NaN               NaN               NaN  NaN   \n",
       "2012-01-05               NaN               NaN               NaN  NaN   \n",
       "2012-01-06               NaN               NaN               NaN  NaN   \n",
       "2012-01-09               NaN               NaN               NaN  NaN   \n",
       "\n",
       "            ShortEMA  LongEMA  ShortMA  LongMA  MACD  SPY_returns  \\\n",
       "Date                                                                \n",
       "2012-01-03       NaN      NaN      NaN     NaN   NaN   127.500000   \n",
       "2012-01-04       NaN      NaN      NaN     NaN   NaN   127.699997   \n",
       "2012-01-05       NaN      NaN      NaN     NaN   NaN   128.039993   \n",
       "2012-01-06       NaN      NaN      NaN     NaN   NaN   127.709999   \n",
       "2012-01-09       NaN      NaN      NaN     NaN   NaN   128.020004   \n",
       "\n",
       "            Treasury_Yield_10_Years     Target  \n",
       "Date                                            \n",
       "2012-01-03                    1.960  14.765714  \n",
       "2012-01-04                    1.995  14.929643  \n",
       "2012-01-05                    1.993  15.085714  \n",
       "2012-01-06                    1.961  15.061786  \n",
       "2012-01-09                    1.960  15.115714  "
      ]
     },
     "execution_count": 90,
     "metadata": {},
     "output_type": "execute_result"
    }
   ],
   "source": [
    "symbol = \"AAPL\"\n",
    "\n",
    "data = get_data(symbol)\n",
    "data.head()\n",
    "\n",
    "data = get_TA(data)\n",
    "\n",
    "# current = get_current_headlines(symbol)\n",
    "# past = get_past_headlines(symbol)\n",
    "\n",
    "# news = pd.concat([current, past])\n",
    "\n",
    "# data = get_sentiment(data, news)\n",
    "\n",
    "data = get_labels(data)\n",
    "data.head()"
   ]
  },
  {
   "cell_type": "code",
   "execution_count": 91,
   "metadata": {},
   "outputs": [],
   "source": [
    "data = data.dropna()"
   ]
  },
  {
   "cell_type": "markdown",
   "metadata": {},
   "source": [
    "## Train-Val-Test Split"
   ]
  },
  {
   "cell_type": "code",
   "execution_count": 92,
   "metadata": {},
   "outputs": [],
   "source": [
    "train_size = int(len(data)*.6)\n",
    "val_size = int(len(data) *.1)\n",
    "test_size = len(data-train_size-val_size)"
   ]
  },
  {
   "cell_type": "code",
   "execution_count": 93,
   "metadata": {},
   "outputs": [
    {
     "data": {
      "image/png": "[encoded data removed]",
      "text/plain": [
       "<Figure size 432x288 with 1 Axes>"
      ]
     },
     "metadata": {
      "needs_background": "light"
     },
     "output_type": "display_data"
    }
   ],
   "source": [
    "plt.plot(data[\"Close\"], color = \"blue\", alpha = .5)\n",
    "xcoords = [data.index[train_size], data.index[train_size+val_size]]\n",
    "for xc in xcoords:\n",
    "    plt.axvline(x=xc)"
   ]
  },
  {
   "cell_type": "code",
   "execution_count": 94,
   "metadata": {},
   "outputs": [],
   "source": [
    "train_df = data[:train_size]\n",
    "val_df = data[train_size: train_size+val_size]\n",
    "test_df = data[train_size+val_size:]"
   ]
  },
  {
   "cell_type": "markdown",
   "metadata": {},
   "source": [
    "## Normalization\n",
    "\n",
    "Because this is a regression task and we are trying to predict big numbers, we would need to normalize that target prices as well. If the prices were between 0-1, then the model would be able to adjust it's weights better and therefore train better."
   ]
  },
  {
   "cell_type": "code",
   "execution_count": 95,
   "metadata": {},
   "outputs": [
    {
     "name": "stderr",
     "output_type": "stream",
     "text": [
      "C:\\Users\\rudra\\anaconda3\\lib\\site-packages\\pandas\\core\\frame.py:3678: SettingWithCopyWarning: \n",
      "A value is trying to be set on a copy of a slice from a DataFrame.\n",
      "Try using .loc[row_indexer,col_indexer] = value instead\n",
      "\n",
      "See the caveats in the documentation: https://pandas.pydata.org/pandas-docs/stable/user_guide/indexing.html#returning-a-view-versus-a-copy\n",
      "  self[col] = igetitem(value, i)\n",
      "C:\\Users\\rudra\\anaconda3\\lib\\site-packages\\pandas\\core\\frame.py:3678: SettingWithCopyWarning: \n",
      "A value is trying to be set on a copy of a slice from a DataFrame.\n",
      "Try using .loc[row_indexer,col_indexer] = value instead\n",
      "\n",
      "See the caveats in the documentation: https://pandas.pydata.org/pandas-docs/stable/user_guide/indexing.html#returning-a-view-versus-a-copy\n",
      "  self[col] = igetitem(value, i)\n",
      "C:\\Users\\rudra\\anaconda3\\lib\\site-packages\\pandas\\core\\frame.py:3678: SettingWithCopyWarning: \n",
      "A value is trying to be set on a copy of a slice from a DataFrame.\n",
      "Try using .loc[row_indexer,col_indexer] = value instead\n",
      "\n",
      "See the caveats in the documentation: https://pandas.pydata.org/pandas-docs/stable/user_guide/indexing.html#returning-a-view-versus-a-copy\n",
      "  self[col] = igetitem(value, i)\n",
      "C:\\Users\\rudra\\anaconda3\\lib\\site-packages\\pandas\\core\\frame.py:3678: SettingWithCopyWarning: \n",
      "A value is trying to be set on a copy of a slice from a DataFrame.\n",
      "Try using .loc[row_indexer,col_indexer] = value instead\n",
      "\n",
      "See the caveats in the documentation: https://pandas.pydata.org/pandas-docs/stable/user_guide/indexing.html#returning-a-view-versus-a-copy\n",
      "  self[col] = igetitem(value, i)\n",
      "C:\\Users\\rudra\\anaconda3\\lib\\site-packages\\pandas\\core\\frame.py:3678: SettingWithCopyWarning: \n",
      "A value is trying to be set on a copy of a slice from a DataFrame.\n",
      "Try using .loc[row_indexer,col_indexer] = value instead\n",
      "\n",
      "See the caveats in the documentation: https://pandas.pydata.org/pandas-docs/stable/user_guide/indexing.html#returning-a-view-versus-a-copy\n",
      "  self[col] = igetitem(value, i)\n",
      "C:\\Users\\rudra\\anaconda3\\lib\\site-packages\\pandas\\core\\frame.py:3678: SettingWithCopyWarning: \n",
      "A value is trying to be set on a copy of a slice from a DataFrame.\n",
      "Try using .loc[row_indexer,col_indexer] = value instead\n",
      "\n",
      "See the caveats in the documentation: https://pandas.pydata.org/pandas-docs/stable/user_guide/indexing.html#returning-a-view-versus-a-copy\n",
      "  self[col] = igetitem(value, i)\n"
     ]
    }
   ],
   "source": [
    "scaler = MinMaxScaler()\n",
    "scalerY = MinMaxScaler()\n",
    "\n",
    "feature_cols = list(train_df.columns)[:-1]\n",
    "\n",
    "train_df[feature_cols] = scaler.fit_transform(train_df[feature_cols])\n",
    "val_df[feature_cols] = scaler.transform(val_df[feature_cols])\n",
    "test_df[feature_cols] = scaler.transform(test_df[feature_cols])\n",
    "\n",
    "# Normalize the targets as well\n",
    "train_df[[\"Target\"]] = scalerY.fit_transform(train_df[[\"Target\"]])\n",
    "val_df[[\"Target\"]] = scalerY.transform(val_df[[\"Target\"]])\n",
    "test_df[[\"Target\"]] = scalerY.transform(test_df[[\"Target\"]])\n",
    "\n",
    "\n",
    "\n"
   ]
  },
  {
   "cell_type": "code",
   "execution_count": 96,
   "metadata": {},
   "outputs": [],
   "source": [
    "# Split into features and target variables\n",
    "train_x, train_y = train_df.iloc[:,:-1],train_df.iloc[:,-1]\n",
    "val_x, val_y = val_df.iloc[:,:-1],val_df.iloc[:,-1]\n",
    "test_x, test_y = test_df.iloc[:,:-1],test_df.iloc[:,-1]"
   ]
  },
  {
   "cell_type": "markdown",
   "metadata": {},
   "source": [
    "## Data Preprocessing"
   ]
  },
  {
   "cell_type": "code",
   "execution_count": 97,
   "metadata": {},
   "outputs": [],
   "source": [
    "train_seq = create_sequences(train_x)\n",
    "train_inout_seq = create_model_input(train_seq, train_y)"
   ]
  },
  {
   "cell_type": "code",
   "execution_count": 98,
   "metadata": {},
   "outputs": [],
   "source": [
    "val_seq = create_sequences(val_x)\n",
    "val_inout_seq = create_model_input(val_seq, val_y)"
   ]
  },
  {
   "cell_type": "code",
   "execution_count": 99,
   "metadata": {},
   "outputs": [],
   "source": [
    "test_seq = create_sequences(test_x)\n",
    "test_inout_seq = create_model_input(test_seq, test_y)"
   ]
  },
  {
   "cell_type": "markdown",
   "metadata": {},
   "source": [
    "## The Model (LSTM)\n",
    "For regression, we would need to have an input linear layer which can sent data to the LSTM layer and then have an output linear layer. The input layer would have the number of features, which is this case is 17. The output layer would be one because we are predicting a single value representing the closing price of the next day.\n"
   ]
  },
  {
   "cell_type": "code",
   "execution_count": 101,
   "metadata": {},
   "outputs": [],
   "source": [
    "NUM_FEATURES = 17\n",
    "BATCH_SIZE = 1\n",
    "class NetworkReg(torch.nn.Module):\n",
    "    def __init__(self, input_size = NUM_FEATURES, hidden_size = 128, output_size = 1, batch_size = BATCH_SIZE, dropout = 0.2, num_layers=2):\n",
    "        super().__init__()\n",
    "        self.input_size = input_size #num of features\n",
    "        self.hidden_size = hidden_size\n",
    "        self.output_size = output_size    \n",
    "        self.batch_size = batch_size\n",
    "        self.num_layers = num_layers  \n",
    "\n",
    "        self.linear_1 = torch.nn.Linear(self.input_size, self.hidden_size)\n",
    "        self.relu = torch.nn.ReLU()\n",
    "        self.lstm = torch.nn.LSTM(self.hidden_size,  hidden_size=self.hidden_size, num_layers = self.num_layers, dropout=dropout)\n",
    "        self.linear = torch.nn.Linear(self.hidden_size, self.output_size)\n",
    "        \n",
    "\n",
    "    def forward(self, input_seq):\n",
    "        x = self.linear_1(input_seq)\n",
    "        x = self.relu(x)\n",
    "        hidden = (torch.zeros(self.num_layers, self.batch_size, self.hidden_size), torch.zeros(self.num_layers, self.batch_size, self.hidden_size))\n",
    "\n",
    "        lstm_out, hidden = self.lstm(x, hidden)\n",
    "        \n",
    "        out = self.linear(hidden[0])\n",
    "        return out[-1]"
   ]
  },
  {
   "cell_type": "code",
   "execution_count": null,
   "metadata": {},
   "outputs": [],
   "source": [
    "epochs = 40\n",
    "\n",
    "hidden_sizes = [128, 256]\n",
    "n_dropouts = [0, .2, .4, .6]\n",
    "num_layers = [1,2,3,4]\n",
    "\n",
    "lrs = [.01,.001,.0001]\n",
    "opt_texts = [\"adam\", \"sgd\"]\n",
    "\n",
    "# epochs = 35\n",
    "# lrs = [.0001]\n",
    "# hidden_sizes =[ 64]\n",
    "# n_dropouts =[.2]\n",
    "# num_layers = [2]\n",
    "# opt_texts = ['adam']\n",
    "\n",
    "#stopped at: hs_128_do_0.2_nl_2_lr_0.0001_opt_adam_03-04-1053\n",
    "##  Hyper parameter tuning\n",
    "# For each parameter combination (grid search)\n",
    "for hidden_size in hidden_sizes:\n",
    "    for dropout in n_dropouts:   \n",
    "        for num_layer in num_layers:\n",
    "            # Create the model with the specific parameters\n",
    "            model = NetworkReg(hidden_size=hidden_size, dropout=dropout, num_layers=num_layer)\n",
    "            \n",
    "            for lr in lrs:\n",
    "                for opt_text in opt_texts:\n",
    "                    # Pick optimizer\n",
    "                    if opt_text == \"adam\":\n",
    "                        opt = torch.optim.Adam(model.parameters(),lr=lr)\n",
    "                    else:\n",
    "                        opt = torch.optim.SGD(model.parameters(),lr=lr)\n",
    "\n",
    "                    loss_func = torch.nn.MSELoss()\n",
    "                    \n",
    "                    # Long name created for tensorboard and to save the model in order to pull again if best\n",
    "                    log_name = 'reg_hs_' + str(hidden_size) + \"_do_\" + str(dropout) + \"_nl_\"+ str(num_layer) + \"_lr_\" + str(lr) + \"_opt_\" + opt_text + \"_\" + datetime.now().strftime(\"%m-%d-%H%M\")\n",
    "                    \n",
    "                    # Begin Training\n",
    "                    for epoch in range(epochs):\n",
    "                        print(\"epoch\", epoch)\n",
    "                        train_loss_total = 0\n",
    "                        \n",
    "                        # Add to Tensorboard\n",
    "                        train_logger = tb.SummaryWriter('./writer/' + log_name + '/train', flush_secs = 1)\n",
    "                        # For each training instance/example\n",
    "                        for i, (x, y) in enumerate(train_inout_seq):\n",
    "                            opt.zero_grad()\n",
    "                            x = x.view(len(x), 1, -1)\n",
    "\n",
    "                            out = model(x.float())\n",
    "                            loss = loss_func(out,y.view(-1,1))\n",
    "\n",
    "                            loss.backward()\n",
    "                            opt.step()\n",
    "\n",
    "                            train_loss_total += loss.item()\n",
    "\n",
    "                        \n",
    "                        # Set the model in evaluation model to not adjust weights\n",
    "                        model.eval()\n",
    "                        # Add validation to tensorboard\n",
    "                        val_logger = tb.SummaryWriter('./writer/' + log_name + '/val', flush_secs = 1)\n",
    "                        val_loss_total = 0\n",
    "                        # For each validation sample\n",
    "                        for i, (x, y) in enumerate(val_inout_seq):\n",
    "                            \n",
    "                            out = model(x.view(len(x), 1, -1).float())\n",
    "                            loss = loss_func(out,y.view(-1,1))\n",
    "\n",
    "                            val_loss_total += loss.item()\n",
    "\n",
    "                        # Get the average loss values\n",
    "                        avg_train_loss = train_loss_total/len(train_inout_seq)\n",
    "                        avg_val_loss = val_loss_total/len(val_inout_seq)\n",
    "\n",
    "                        print(avg_train_loss)\n",
    "                        print(avg_val_loss)\n",
    "                        \n",
    "                        # Add to tensorboard graphs for each epoch\n",
    "                        train_logger.add_scalar(\"Loss_train\", avg_train_loss, epoch)\n",
    "                        val_logger.add_scalar(\"Loss_val\", avg_val_loss, epoch)\n",
    "                    \n",
    "                    # Save the trained model\n",
    "                    torch.save(model, \"models/%s.pt\" % log_name)  \n"
   ]
  },
  {
   "cell_type": "code",
   "execution_count": 141,
   "metadata": {},
   "outputs": [],
   "source": [
    "model = torch.load(\"models/reg_hs_64_do_0.2_nl_2_lr_0.0001_opt_adam_05-09-2259.pt\")"
   ]
  },
  {
   "cell_type": "markdown",
   "metadata": {},
   "source": [
    "## Prediction\n",
    "\n",
    "In order to see how well our model predicts, we need to visualize the data and its predictions. We need to also assign how a bot would trade based on the predicted changes in price. This can be done by creating thresholds of predict changes and using buy/sell signals based on if the price changes past those specified thresholds. In this case, the default threshold is .15% on both sell and buy. This means that if the predicted price has a higher than .15% percent change from the previous price, then we would buy (if positive increase) or sell (if negative decrease). \n",
    "\n",
    "\n",
    "This function also reflects a brokage system where the bot can set a stop loss. A stop loss is a way for investors to limit the amount that they could potentially lose in an investment. It is similar to a safety net where if a trade does not go their way, they can only lose a set amount. In this case the stop_loss would be 1.5% by default. If the bot buys and the investment actually falls 1.5%, then the bot will automatically sell.\n",
    "\n",
    "\n",
    "After predicting using the training, validation, and test set, we can plot the prediction regression line along with the buy and sell signals. If the sell signal was a result of a stop loss, it would be in purple.\n",
    "\n",
    "NOTE: All graphs used the model trained above. The model used a learning rate of .0001, hidden size of 64, dropout of 0.2, number of layers of 2, and an adam optimizer. This model training was much faster than the classification models.\n",
    "\n",
    "NOTE: The red line in the validation plot shows the regression prediction "
   ]
  },
  {
   "cell_type": "code",
   "execution_count": 103,
   "metadata": {},
   "outputs": [],
   "source": [
    "def get_trading_signals(df, window_size=WINDOW_SIZE, buy_threshold=.0015, sell_threshold=.0015, lag=0, stop_loss_percent = .015):\n",
    "    '''\n",
    "    Calculate all true labels/targets of the dataset\n",
    "\n",
    "        Parameters:\n",
    "                df (DataFrame): asset data\n",
    "                window_size (int): number of days of previous data\n",
    "                buy_threshold (float): positive percent difference min for buy signal\n",
    "                sell_threshold (float): negative percent difference max for sell signal\n",
    "                stop_loss_percent (float): percent loss allowed before forcing sell signal\n",
    "\n",
    "        Returns:\n",
    "                (DateFrame): Asset data with new infomation\n",
    "    '''\n",
    "    # Get all buys given that percent differences is greater than buy threshold\n",
    "    df[\"Pred Buy Pred\"] = [df.iloc[i][\"Preds\"] if df.iloc[i+lag][\"percentDiff\"] >= buy_threshold else np.nan for i in range(len(df)-lag)] + [np.nan] * lag\n",
    "    \n",
    "    # Get all sells given that percent differences is less than sell threshold\n",
    "    df[\"Pred Sell Pred\"] = [df.iloc[i][\"Preds\"] if df.iloc[i+lag][\"percentDiff\"] <= -sell_threshold else np.nan for i in range(len(df)-lag)]+ [np.nan] * lag\n",
    "    \n",
    "    # Get true buy and sell signals using the precent difference of the true close price\n",
    "    buys = [df.iloc[i][\"Close\"] if df.iloc[i+lag][\"percentDiff\"] >= buy_threshold else np.nan for i in range(len(df)-lag)] + [np.nan] * lag\n",
    "    sells = [df.iloc[i][\"Close\"] if df.iloc[i+lag][\"percentDiff\"] <= -sell_threshold else np.nan for i in range(len(df)-lag)] + [np.nan] * lag\n",
    "\n",
    "    pred_buy_actual = []\n",
    "    pred_sell_actual = []\n",
    "    stop_loss = []\n",
    "    \n",
    "    bought = False\n",
    "    last_buy_price = np.nan\n",
    "    # Trading only one share\n",
    "    for i in range(len(buys)):\n",
    "        # If buy signal and not bought, record buy price\n",
    "        if (not math.isnan(buys[i])) and (not bought):\n",
    "            pred_buy_actual.append(buys[i])\n",
    "            pred_sell_actual.append(np.nan)\n",
    "            stop_loss.append(np.nan)\n",
    "            bought = True\n",
    "            last_buy_price = buys[i]\n",
    "       \n",
    "        # If sell signal and bought, record sell price\n",
    "        elif (not math.isnan(sells[i])) and (bought):\n",
    "            pred_buy_actual.append(np.nan)\n",
    "            pred_sell_actual.append(sells[i])\n",
    "            stop_loss.append(np.nan)\n",
    "            bought = False\n",
    "        \n",
    "        # If stop loss triggered and bought, record sell price\n",
    "        elif(last_buy_price * (1-stop_loss_percent) > df.iloc[i][\"Close\"]) and (bought):\n",
    "            pred_buy_actual.append(np.nan)\n",
    "            pred_sell_actual.append(df.iloc[i][\"Close\"])\n",
    "            stop_loss.append(df.iloc[i][\"Close\"])\n",
    "            bought = False\n",
    "        # Do nothing\n",
    "        else:\n",
    "            pred_buy_actual.append(np.nan)\n",
    "            pred_sell_actual.append(np.nan)\n",
    "            stop_loss.append(np.nan)\n",
    "    \n",
    "    df[\"Pred Buy Actual\"] = pred_buy_actual\n",
    "    df[\"Pred Sell Actual\"] = pred_sell_actual\n",
    "    df[\"Stop Loss\"] = stop_loss\n",
    "\n",
    "        \n",
    "    return df\n",
    "\n",
    "\n",
    "def plot_preds(df_set, show_signals = False, buy_threshold=.0015, sell_threshold=.0015, window_size=WINDOW_SIZE, lag=0, show_pred = True):\n",
    "    \n",
    "    '''\n",
    "    Calculate all true labels/targets of the dataset\n",
    "\n",
    "        Parameters:\n",
    "                df_set (DataFrame): asset data\n",
    "                show_signals (bool): plot buy/sell arrows\n",
    "                buy_threshold (float): positive percent difference min for buy signal\n",
    "                sell_threshold (float): negative percent difference max for sell signal\n",
    "                window_size (int): number of days of previous data\n",
    "                lag (int): how many days predicting in future\n",
    "                show_pred (bool): plot the prediction regression line\n",
    "\n",
    "    '''\n",
    "    \n",
    "    df = df_set.copy()\n",
    "    # Un-normalize the features\n",
    "    df[feature_cols] = scaler.inverse_transform(df[feature_cols])\n",
    "   \n",
    "\n",
    "    \n",
    "    fig = plt.figure(figsize=(8, 6))\n",
    "    # Plot true close price\n",
    "    plt.plot(df[\"Close\"], color = \"blue\", alpha = .5)\n",
    "\n",
    "    # If pred regression line to be ploted, plot it in red\n",
    "    if show_pred:\n",
    "        df[[\"Preds\"]] = scalerY.inverse_transform(df[[\"Preds\"]])\n",
    "        plt.plot(df[\"Preds\"], color = \"red\", alpha = .5)\n",
    "    \n",
    "    # If signals needed, get the true vs the predicted signals\n",
    "    if show_signals:\n",
    "        df = get_trading_signals(df, buy_threshold=buy_threshold, sell_threshold=sell_threshold, lag=lag)\n",
    "        if(not df[\"Pred Buy Actual\"].isnull().all()):\n",
    "            plt.scatter(df.index, df[\"Pred Buy Actual\"], color = 'green', marker=\"^\", alpha=1)\n",
    "        if(not df[\"Pred Sell Actual\"].isnull().all()):\n",
    "            plt.scatter(df.index, df[\"Pred Sell Actual\"], color = 'red', marker=\"v\", alpha=1)\n",
    "        \n",
    "        if(not df[\"Stop Loss\"].isnull().all()):\n",
    "            plt.scatter(df.index, df[\"Stop Loss\"], color = 'purple', marker=\"v\", alpha=1)\n",
    "        \n",
    "        if show_pred:\n",
    "            if(not df[\"Pred Buy Pred\"].isnull().all()):\n",
    "                plt.scatter(df.index, df[\"Pred Buy Pred\"], color = 'green', marker=\"^\", alpha=1)\n",
    "            if(not df[\"Pred Sell Pred\"].isnull().all()):\n",
    "                plt.scatter(df.index, df[\"Pred Sell Pred\"], color = 'red', marker=\"v\", alpha=1)\n",
    "\n",
    "    plt.show() \n",
    "    plt.close(fig)\n",
    "\n"
   ]
  },
  {
   "cell_type": "code",
   "execution_count": 130,
   "metadata": {},
   "outputs": [
    {
     "data": {
      "image/png": "[encoded data removed]",
      "text/plain": [
       "<Figure size 576x432 with 1 Axes>"
      ]
     },
     "metadata": {
      "needs_background": "light"
     },
     "output_type": "display_data"
    }
   ],
   "source": [
    "model.eval()\n",
    "window = WINDOW_SIZE\n",
    "preds = []\n",
    "\n",
    "\n",
    "\n",
    "for i, (x, y) in enumerate(train_inout_seq):\n",
    "    preds.append(model(x.view(len(x), 1, -1).float()).item())\n",
    "\n",
    "\n",
    "train_df[\"Preds\"] = [np.nan]*window + preds\n",
    "\n",
    "train_df[\"percentDiff\"] = train_df[\"Preds\"].pct_change()\n",
    "\n",
    "plot_preds(train_df, show_signals=True, buy_threshold=.0001, sell_threshold=.0001, show_pred=False)"
   ]
  },
  {
   "cell_type": "code",
   "execution_count": 131,
   "metadata": {},
   "outputs": [
    {
     "data": {
      "image/png": "[encoded data removed]",
      "text/plain": [
       "<Figure size 576x432 with 1 Axes>"
      ]
     },
     "metadata": {
      "needs_background": "light"
     },
     "output_type": "display_data"
    }
   ],
   "source": [
    "model.eval()\n",
    "\n",
    "preds = []\n",
    "\n",
    "for i, (x, y) in enumerate(val_inout_seq):\n",
    "    preds.append(model(x.view(len(x), 1, -1).float()).item())\n",
    "\n",
    "val_df[\"Preds\"] = [np.nan]*window + preds\n",
    "\n",
    "val_df[\"percentDiff\"] = val_df[\"Preds\"].pct_change()\n",
    "\n",
    "plot_preds(val_df, show_signals=True,  buy_threshold=.0001, sell_threshold=.0001, show_pred = True)\n",
    "    "
   ]
  },
  {
   "cell_type": "code",
   "execution_count": 132,
   "metadata": {},
   "outputs": [
    {
     "data": {
      "image/png": "[encoded data removed]",
      "text/plain": [
       "<Figure size 576x432 with 1 Axes>"
      ]
     },
     "metadata": {
      "needs_background": "light"
     },
     "output_type": "display_data"
    }
   ],
   "source": [
    "model.eval()\n",
    "\n",
    "preds = []\n",
    "\n",
    "for i, (x, y) in enumerate(test_inout_seq):\n",
    "    preds.append(model(x.view(len(x), 1, -1).float()).item())\n",
    "\n",
    "test_df[\"Preds\"] = [np.nan]*window + preds\n",
    "\n",
    "test_df[\"percentDiff\"] = test_df[\"Preds\"].pct_change()\n",
    "\n",
    "plot_preds(test_df, show_signals=True,  buy_threshold=.0001, sell_threshold=.0001, show_pred = False)\n",
    "    "
   ]
  },
  {
   "cell_type": "markdown",
   "metadata": {},
   "source": [
    "## Model Evaluation\n",
    "\n",
    "There are many ways to evaluate this model, which include comparing the number of days to true buy and sell signals, however we found that the best way would be to evaluate this model to a benchmark of buying and holding. Every trader attempts to beat the buy-and-hold method which is buying the asset at the beginning of a certain time and then not selling it and allowing it to, hopefully, appreciate in price over time. A trader want to profit off of each upward trend. So we can use the buy and sell signals along with their prices to see how much money the bot would have made and compare that to the price difference at the beginning and at the end."
   ]
  },
  {
   "cell_type": "code",
   "execution_count": 133,
   "metadata": {},
   "outputs": [],
   "source": [
    "def buy_hold_profit(df, window_size=WINDOW_SIZE):\n",
    "    '''\n",
    "    Calculate the buy and hold profit\n",
    "\n",
    "        Parameters:\n",
    "                df (DataFrame): asset data\n",
    "\n",
    "        Returns:\n",
    "                (float): Profit from buy and hold\n",
    "    '''\n",
    "    buy_hold_profit = df[\"Close\"][-1] - df[\"Close\"][window_size]\n",
    "    return buy_hold_profit"
   ]
  },
  {
   "cell_type": "code",
   "execution_count": 134,
   "metadata": {},
   "outputs": [],
   "source": [
    "def get_total_profit(data):\n",
    "    '''\n",
    "    Calculate total profit from all bot trades\n",
    "\n",
    "        Parameters:\n",
    "                data (DataFrame): asset data\n",
    "\n",
    "        Returns:\n",
    "                (float): Profit from trading\n",
    "    '''\n",
    "    profit = 0\n",
    "    i = 0 \n",
    "    buyIndex = -1\n",
    "    sellIndex = -1\n",
    "\n",
    "    buyCol = data.columns.get_loc(\"Pred Buy Actual\")\n",
    "    sellCol = data.columns.get_loc(\"Pred Sell Actual\")\n",
    "    closeCol = data.columns.get_loc(\"Close\")\n",
    "\n",
    "    # Get all indices of buy and sell and find the differences between prices\n",
    "    while i < len(data):\n",
    "        # Save buy index if buy\n",
    "        if(not pd.isnull(data.iloc[i,buyCol]) and buyIndex == -1): \n",
    "            buyIndex = i\n",
    "         # If sell, get the profit from that trade\n",
    "        if(not pd.isnull(data.iloc[i,sellCol]) and buyIndex != -1):\n",
    "            sellIndex = i\n",
    "\n",
    "            # Add trade profit to total profit\n",
    "            profit += (data.iloc[sellIndex,sellCol] - data.iloc[buyIndex,buyCol])\n",
    "            \n",
    "            buyIndex = -1\n",
    "            sellIndex = -1\n",
    "        # If at the end of prices and share has been bought\n",
    "        if((i+1) == len(data) and buyIndex != -1):\n",
    "            lastRow = -1\n",
    "            # Find the last close price\n",
    "            while (pd.isnull(data.iloc[lastRow, closeCol])):\n",
    "                lastRow -= 1\n",
    "\n",
    "            # Assume sold at the end of the time frame and add the profit of that trade as well\n",
    "            profit += data.iloc[lastRow, closeCol] - data.iloc[buyIndex, buyCol]\n",
    "        i+=1\n",
    "    return profit"
   ]
  },
  {
   "cell_type": "code",
   "execution_count": 135,
   "metadata": {},
   "outputs": [],
   "source": [
    "def unnormalize(df):\n",
    "    '''\n",
    "    Convert the normalized columns back to their original values\n",
    "\n",
    "        Parameters:\n",
    "                df (DataFrame): asset data\n",
    "\n",
    "        Returns:\n",
    "                (DataFrame): asset data un-normalized\n",
    "    '''\n",
    "    df_un_norm = df.copy()\n",
    "    df_un_norm[feature_cols] = scaler.inverse_transform(df_un_norm[feature_cols])\n",
    "    df_un_norm[[\"Preds\"]] = scalerY.inverse_transform(df_un_norm[[\"Preds\"]])\n",
    "    return df_un_norm"
   ]
  },
  {
   "cell_type": "code",
   "execution_count": 136,
   "metadata": {},
   "outputs": [],
   "source": [
    "pd.options.mode.chained_assignment = None  # default='warn'\n",
    "#get rid of settingwithcopywarning message"
   ]
  },
  {
   "cell_type": "code",
   "execution_count": 137,
   "metadata": {},
   "outputs": [
    {
     "name": "stdout",
     "output_type": "stream",
     "text": [
      "trading: $ 9.632133483886717\n",
      "buy & hold $ 22.642499923706055\n"
     ]
    }
   ],
   "source": [
    "print(\"trading: $\", get_total_profit(get_trading_signals(unnormalize(train_df), buy_threshold=.0015, sell_threshold=.0015)))\n",
    "print(\"buy & hold $\", buy_hold_profit(get_trading_signals(unnormalize(train_df), buy_threshold=.0015, sell_threshold=.0015)))"
   ]
  },
  {
   "cell_type": "code",
   "execution_count": 138,
   "metadata": {},
   "outputs": [
    {
     "name": "stdout",
     "output_type": "stream",
     "text": [
      "trading: $ 1.564990997314446\n",
      "buy & hold $ -5.299999237060547\n"
     ]
    }
   ],
   "source": [
    "print(\"trading: $\",get_total_profit(get_trading_signals(unnormalize(val_df),  buy_threshold=.0003, sell_threshold=.0003)))\n",
    "print(\"buy & hold $\",buy_hold_profit(get_trading_signals(unnormalize(val_df),  buy_threshold=.0015, sell_threshold=.0015)))"
   ]
  },
  {
   "cell_type": "code",
   "execution_count": 139,
   "metadata": {},
   "outputs": [
    {
     "name": "stdout",
     "output_type": "stream",
     "text": [
      "trading: $ 88.53498840332033\n",
      "buy & hold $ 135.79750442504883\n"
     ]
    }
   ],
   "source": [
    "print(\"trading: $\",get_total_profit(get_trading_signals(unnormalize(test_df),  buy_threshold=.0003, sell_threshold=.0003)))\n",
    "print(\"buy & hold $\",buy_hold_profit(get_trading_signals(unnormalize(test_df),  buy_threshold=.0015, sell_threshold=.0015)))"
   ]
  },
  {
   "cell_type": "markdown",
   "metadata": {},
   "source": [
    "## Results/Discussion\n",
    "\n",
    "Honestly, the regression model does much, much better than I expected. Even though it was not able to exactly get the correct prices for each of the time steps, it was able to capture the trends as seen by the validation red regression line. Because of this, it was able to make a significant profit on more volatile data in the test set as it was still able to make a profit of $88 per share. It seems that the model seems that it is more sensitive to selling rather than buying. This is seen through the validation results as the model does a better job when trading and using the bot compared to buying and holding. This threshold of buying and selling can be adjusted for optimal results in the training and validation sets. After some more training, resources, features, and time, I believe that I can make this model close to, if not beat, the buy and hold method."
   ]
  },
  {
   "cell_type": "markdown",
   "metadata": {},
   "source": [
    "## Research Conclusion\n",
    "\n",
    "Predicting the stock market is a very difficult tasks as there are over thousands of variables that are incorporated and many of them can not be quantified. Many banks, hedge funds, data scientists, and average retail investors try to create bots that can figure out the secrets to the market and beat it over and over again. Even the people that do get a winning strategy would not share it with the industry, making the research in this field much harder. When starting this project, I did not expect to get outstanding results. My main goal was to learn about the research and work done in this field in regards to machine learning and apply my course knowledge to a personal project. Throughout this project, I found that since I was not able to consistently beat the market, the Efficient Market Hypothesis still stands as I was not able to use historical information in order to make excess gains."
   ]
  },
  {
   "cell_type": "markdown",
   "metadata": {},
   "source": [
    "## Next Steps\n",
    "\n",
    "Over the summer, I plan to continue researching this topic and seeing how to improve it. My next steps include:\n",
    "\n",
    "- Long training time with better training resources (GPUs on AWS)\n",
    "- More hyperparameter tuning\n",
    "- Connecting trading bot to an API brokage (Alpaca)\n",
    "- Gather more features such as Options pricing\n",
    "- Create a portfolio of stocks rather than just one stock trading\n",
    "- Quantify risk as a feature\n",
    "- Try the model with different stocks and se if this model can be applied to other companies or if there is a need to train a new model on other companies\n",
    "\n"
   ]
  }
 ],
 "metadata": {
  "interpreter": {
   "hash": "0f9426b460f494deb5fc1ce4e2d07b9f1f902bcb927e6e2087de4baa3a2d5345"
  },
  "kernelspec": {
   "display_name": "Python 3.7.6 ('base')",
   "language": "python",
   "name": "python3"
  },
  "language_info": {
   "codemirror_mode": {
    "name": "ipython",
    "version": 3
   },
   "file_extension": ".py",
   "mimetype": "text/x-python",
   "name": "python",
   "nbconvert_exporter": "python",
   "pygments_lexer": "ipython3",
   "version": "3.7.6"
  },
  "orig_nbformat": 4
 },
 "nbformat": 4,
 "nbformat_minor": 2
}
